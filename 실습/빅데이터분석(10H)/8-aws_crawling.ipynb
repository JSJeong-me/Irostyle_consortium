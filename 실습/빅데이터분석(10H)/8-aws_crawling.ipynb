{
 "cells": [
  {
   "cell_type": "code",
   "execution_count": 1,
   "metadata": {
    "id": "6S-gGu707z44"
   },
   "outputs": [],
   "source": [
    "import requests\n",
    "from bs4 import BeautifulSoup\n",
    "import pandas as pd\n",
    "from time import sleep\n",
    "import re"
   ]
  },
  {
   "cell_type": "code",
   "execution_count": 7,
   "metadata": {
    "id": "6S-gGu707z44"
   },
   "outputs": [
    {
     "name": "stdout",
     "output_type": "stream",
     "text": [
      "C:\\Users\\oakyo\\Documents\\ai-2022\\실습과제\\빅데이터분석(10H)\n"
     ]
    }
   ],
   "source": [
    "%cd C:\\Users\\oakyo\\Documents\\ai-2022\\실습과제\\빅데이터분석(10H)"
   ]
  },
  {
   "cell_type": "code",
   "execution_count": 2,
   "metadata": {
    "id": "6S-gGu707z44"
   },
   "outputs": [],
   "source": [
    "def cleanText(readData):\n",
    "    text = re.sub('[-=+,#/\\?:^$.@*\\\"※~&%ㆍ!』\\\\‘|\\(\\)\\[\\]\\<\\>`\\'…》]','', readData)\n",
    "    return text"
   ]
  },
  {
   "cell_type": "code",
   "execution_count": 3,
   "metadata": {
    "id": "6S-gGu707z44"
   },
   "outputs": [],
   "source": [
    "headers = {\n",
    "    'User-Agent': 'Mozilla/5.0 (Windows NT 10.0; Win64; x64; rv:94.0) Gecko/20100101 Firefox/94.0',\n",
    "    'Accept-Language': 'en-US, en;q=0.5'\n",
    "}"
   ]
  },
  {
   "cell_type": "code",
   "execution_count": 4,
   "metadata": {
    "id": "6S-gGu707z44"
   },
   "outputs": [],
   "source": [
    "search_query = 'air purifier'.replace(' ', '+') # zep"
   ]
  },
  {
   "cell_type": "code",
   "execution_count": 5,
   "metadata": {
    "id": "6S-gGu707z44"
   },
   "outputs": [],
   "source": [
    "base_url = 'https://www.amazon.com/s?k={0}'.format(search_query)"
   ]
  },
  {
   "cell_type": "code",
   "execution_count": 8,
   "metadata": {
    "id": "6S-gGu707z44"
   },
   "outputs": [
    {
     "data": {
      "text/plain": [
       "'https://www.amazon.com/s?k=air+purifier'"
      ]
     },
     "execution_count": 8,
     "metadata": {},
     "output_type": "execute_result"
    }
   ],
   "source": [
    "base_url"
   ]
  },
  {
   "cell_type": "code",
   "execution_count": 9,
   "metadata": {
    "id": "6S-gGu707z44"
   },
   "outputs": [
    {
     "name": "stdout",
     "output_type": "stream",
     "text": [
      "Processing https://www.amazon.com/s?k=air+purifier&page=1...\n",
      "Processing https://www.amazon.com/s?k=air+purifier&page=2...\n",
      "Processing https://www.amazon.com/s?k=air+purifier&page=3...\n",
      "Processing https://www.amazon.com/s?k=air+purifier&page=4...\n",
      "Processing https://www.amazon.com/s?k=air+purifier&page=5...\n",
      "Processing https://www.amazon.com/s?k=air+purifier&page=6...\n",
      "Processing https://www.amazon.com/s?k=air+purifier&page=7...\n",
      "Processing https://www.amazon.com/s?k=air+purifier&page=8...\n",
      "Processing https://www.amazon.com/s?k=air+purifier&page=9...\n",
      "Processing https://www.amazon.com/s?k=air+purifier&page=10...\n",
      "Processing https://www.amazon.com/s?k=air+purifier&page=11...\n",
      "Processing https://www.amazon.com/s?k=air+purifier&page=12...\n",
      "Processing https://www.amazon.com/s?k=air+purifier&page=13...\n",
      "Processing https://www.amazon.com/s?k=air+purifier&page=14...\n",
      "Processing https://www.amazon.com/s?k=air+purifier&page=15...\n",
      "Processing https://www.amazon.com/s?k=air+purifier&page=16...\n",
      "Processing https://www.amazon.com/s?k=air+purifier&page=17...\n",
      "Processing https://www.amazon.com/s?k=air+purifier&page=18...\n",
      "Processing https://www.amazon.com/s?k=air+purifier&page=19...\n",
      "Processing https://www.amazon.com/s?k=air+purifier&page=20...\n",
      "Processing https://www.amazon.com/s?k=air+purifier&page=21...\n",
      "Processing https://www.amazon.com/s?k=air+purifier&page=22...\n",
      "Processing https://www.amazon.com/s?k=air+purifier&page=23...\n",
      "Processing https://www.amazon.com/s?k=air+purifier&page=24...\n",
      "Processing https://www.amazon.com/s?k=air+purifier&page=25...\n",
      "Processing https://www.amazon.com/s?k=air+purifier&page=26...\n",
      "Processing https://www.amazon.com/s?k=air+purifier&page=27...\n",
      "Processing https://www.amazon.com/s?k=air+purifier&page=28...\n",
      "Processing https://www.amazon.com/s?k=air+purifier&page=29...\n",
      "Processing https://www.amazon.com/s?k=air+purifier&page=30...\n",
      "Processing https://www.amazon.com/s?k=air+purifier&page=31...\n",
      "Processing https://www.amazon.com/s?k=air+purifier&page=32...\n",
      "Processing https://www.amazon.com/s?k=air+purifier&page=33...\n",
      "Processing https://www.amazon.com/s?k=air+purifier&page=34...\n",
      "Processing https://www.amazon.com/s?k=air+purifier&page=35...\n",
      "Processing https://www.amazon.com/s?k=air+purifier&page=36...\n",
      "Processing https://www.amazon.com/s?k=air+purifier&page=37...\n",
      "Processing https://www.amazon.com/s?k=air+purifier&page=38...\n",
      "Processing https://www.amazon.com/s?k=air+purifier&page=39...\n",
      "Processing https://www.amazon.com/s?k=air+purifier&page=40...\n",
      "Processing https://www.amazon.com/s?k=air+purifier&page=41...\n",
      "Processing https://www.amazon.com/s?k=air+purifier&page=42...\n",
      "Processing https://www.amazon.com/s?k=air+purifier&page=43...\n",
      "Processing https://www.amazon.com/s?k=air+purifier&page=44...\n",
      "Processing https://www.amazon.com/s?k=air+purifier&page=45...\n",
      "Processing https://www.amazon.com/s?k=air+purifier&page=46...\n",
      "Processing https://www.amazon.com/s?k=air+purifier&page=47...\n",
      "Processing https://www.amazon.com/s?k=air+purifier&page=48...\n",
      "Processing https://www.amazon.com/s?k=air+purifier&page=49...\n"
     ]
    }
   ],
   "source": [
    "items = []\n",
    "for i in range(1, 50):\n",
    "    print('Processing {0}...'.format(base_url + '&page={0}'.format(i)))\n",
    "    response = requests.get(base_url + '&page={0}'.format(i), headers=headers)\n",
    "    soup = BeautifulSoup(response.content, 'html.parser')\n",
    "    \n",
    "    results = soup.find_all('div', {'class': 's-result-item', 'data-component-type': 's-search-result'})\n",
    "\n",
    "    for result in results:\n",
    "        product_name = result.h2.text\n",
    "\n",
    "        try:\n",
    "            rating = result.find('i', {'class': 'a-icon'}).text\n",
    "            # rating_count = result.find_all('span', {'aria-label': True})[1].text\n",
    "        except AttributeError:\n",
    "            continue\n",
    "\n",
    "        try:\n",
    "            price1 = result.find('span', {'class': 'a-price-whole'}).text\n",
    "            price1 = cleanText(price1)\n",
    "            price2 = result.find('span', {'class': 'a-price-fraction'}).text\n",
    "            price2 = cleanText(price2)\n",
    "            price = float(price1 + price2)\n",
    "            product_url = 'https://amazon.com' + result.h2.a['href']\n",
    "            # print(rating_count, product_url)\n",
    "            # items.append([product_name, rating, rating_count, price, product_url])\n",
    "            items.append([product_name, rating, price, product_url])\n",
    "        except AttributeError:\n",
    "            continue\n",
    "    sleep(1.5)"
   ]
  },
  {
   "cell_type": "code",
   "execution_count": 10,
   "metadata": {
    "id": "6S-gGu707z44"
   },
   "outputs": [
    {
     "data": {
      "text/plain": [
       "552"
      ]
     },
     "execution_count": 10,
     "metadata": {},
     "output_type": "execute_result"
    }
   ],
   "source": [
    "len(items)"
   ]
  },
  {
   "cell_type": "code",
   "execution_count": 11,
   "metadata": {
    "id": "6S-gGu707z44"
   },
   "outputs": [],
   "source": [
    "df = pd.DataFrame(items, columns=['product', 'rating', 'price', 'product url'])\n",
    "# df = pd.DataFrame(items, columns=['product', 'rating', 'rating count', 'price', 'product url'])\n",
    "df['price'] = df['price']/100"
   ]
  },
  {
   "cell_type": "code",
   "execution_count": 12,
   "metadata": {
    "id": "6S-gGu707z44"
   },
   "outputs": [
    {
     "data": {
      "text/html": [
       "<div>\n",
       "<style scoped>\n",
       "    .dataframe tbody tr th:only-of-type {\n",
       "        vertical-align: middle;\n",
       "    }\n",
       "\n",
       "    .dataframe tbody tr th {\n",
       "        vertical-align: top;\n",
       "    }\n",
       "\n",
       "    .dataframe thead th {\n",
       "        text-align: right;\n",
       "    }\n",
       "</style>\n",
       "<table border=\"1\" class=\"dataframe\">\n",
       "  <thead>\n",
       "    <tr style=\"text-align: right;\">\n",
       "      <th></th>\n",
       "      <th>product</th>\n",
       "      <th>rating</th>\n",
       "      <th>price</th>\n",
       "      <th>product url</th>\n",
       "    </tr>\n",
       "  </thead>\n",
       "  <tbody>\n",
       "    <tr>\n",
       "      <th>547</th>\n",
       "      <td>Mila Air Purifier with Basic Breather Filter (...</td>\n",
       "      <td>4.5 out of 5 stars</td>\n",
       "      <td>408.00</td>\n",
       "      <td>https://amazon.com/sspa/click?ie=UTF8&amp;spc=MTox...</td>\n",
       "    </tr>\n",
       "    <tr>\n",
       "      <th>548</th>\n",
       "      <td>Air Purifiers, Home Air purifier for Large Roo...</td>\n",
       "      <td>4.6 out of 5 stars</td>\n",
       "      <td>89.99</td>\n",
       "      <td>https://amazon.com/sspa/click?ie=UTF8&amp;spc=MTox...</td>\n",
       "    </tr>\n",
       "    <tr>\n",
       "      <th>549</th>\n",
       "      <td>Air Purifier, Home Air Purifiers For Large Roo...</td>\n",
       "      <td>4.3 out of 5 stars</td>\n",
       "      <td>139.87</td>\n",
       "      <td>https://amazon.com/sspa/click?ie=UTF8&amp;spc=MTox...</td>\n",
       "    </tr>\n",
       "    <tr>\n",
       "      <th>550</th>\n",
       "      <td>AROEVE Air Purifiers for Large Room Up to 1095...</td>\n",
       "      <td>4.6 out of 5 stars</td>\n",
       "      <td>97.62</td>\n",
       "      <td>https://amazon.com/sspa/click?ie=UTF8&amp;spc=MTox...</td>\n",
       "    </tr>\n",
       "    <tr>\n",
       "      <th>551</th>\n",
       "      <td>Hepa Air Purifier for Home 200 Sq.ft Large Roo...</td>\n",
       "      <td>4.6 out of 5 stars</td>\n",
       "      <td>89.99</td>\n",
       "      <td>https://amazon.com/sspa/click?ie=UTF8&amp;spc=MTox...</td>\n",
       "    </tr>\n",
       "  </tbody>\n",
       "</table>\n",
       "</div>"
      ],
      "text/plain": [
       "                                               product              rating  \\\n",
       "547  Mila Air Purifier with Basic Breather Filter (...  4.5 out of 5 stars   \n",
       "548  Air Purifiers, Home Air purifier for Large Roo...  4.6 out of 5 stars   \n",
       "549  Air Purifier, Home Air Purifiers For Large Roo...  4.3 out of 5 stars   \n",
       "550  AROEVE Air Purifiers for Large Room Up to 1095...  4.6 out of 5 stars   \n",
       "551  Hepa Air Purifier for Home 200 Sq.ft Large Roo...  4.6 out of 5 stars   \n",
       "\n",
       "      price                                        product url  \n",
       "547  408.00  https://amazon.com/sspa/click?ie=UTF8&spc=MTox...  \n",
       "548   89.99  https://amazon.com/sspa/click?ie=UTF8&spc=MTox...  \n",
       "549  139.87  https://amazon.com/sspa/click?ie=UTF8&spc=MTox...  \n",
       "550   97.62  https://amazon.com/sspa/click?ie=UTF8&spc=MTox...  \n",
       "551   89.99  https://amazon.com/sspa/click?ie=UTF8&spc=MTox...  "
      ]
     },
     "execution_count": 12,
     "metadata": {},
     "output_type": "execute_result"
    }
   ],
   "source": [
    "df.tail()"
   ]
  },
  {
   "cell_type": "code",
   "execution_count": 13,
   "metadata": {
    "id": "6S-gGu707z44"
   },
   "outputs": [],
   "source": [
    "df.to_csv('{0}.csv'.format(search_query), index=False)"
   ]
  },
  {
   "cell_type": "code",
   "execution_count": null,
   "metadata": {},
   "outputs": [],
   "source": [
    "df.tail()"
   ]
  },
  {
   "cell_type": "code",
   "execution_count": null,
   "metadata": {},
   "outputs": [],
   "source": [
    "df.to_csv('amazon-1017.csv')"
   ]
  },
  {
   "cell_type": "code",
   "execution_count": null,
   "metadata": {},
   "outputs": [],
   "source": [
    "df['product url'].to_csv('amazon-url.csv')"
   ]
  },
  {
   "cell_type": "code",
   "execution_count": 8,
   "metadata": {},
   "outputs": [
    {
     "data": {
      "text/plain": [
       "518    https://amazon.com/sspa/click?ie=UTF8&spc=MTo1...\n",
       "519    https://amazon.com/sspa/click?ie=UTF8&spc=MTo1...\n",
       "520    https://amazon.com/sspa/click?ie=UTF8&spc=MTo1...\n",
       "521    https://amazon.com/sspa/click?ie=UTF8&spc=MTo1...\n",
       "522    https://amazon.com/sspa/click?ie=UTF8&spc=MTo1...\n",
       "Name: product url, dtype: object"
      ]
     },
     "execution_count": 8,
     "metadata": {},
     "output_type": "execute_result"
    }
   ],
   "source": [
    "df['product url'].tail()"
   ]
  },
  {
   "cell_type": "code",
   "execution_count": 7,
   "metadata": {},
   "outputs": [],
   "source": [
    "df = pd.read_csv('air+purifier.csv')"
   ]
  },
  {
   "cell_type": "code",
   "execution_count": 5,
   "metadata": {},
   "outputs": [
    {
     "data": {
      "text/html": [
       "<div>\n",
       "<style scoped>\n",
       "    .dataframe tbody tr th:only-of-type {\n",
       "        vertical-align: middle;\n",
       "    }\n",
       "\n",
       "    .dataframe tbody tr th {\n",
       "        vertical-align: top;\n",
       "    }\n",
       "\n",
       "    .dataframe thead th {\n",
       "        text-align: right;\n",
       "    }\n",
       "</style>\n",
       "<table border=\"1\" class=\"dataframe\">\n",
       "  <thead>\n",
       "    <tr style=\"text-align: right;\">\n",
       "      <th></th>\n",
       "      <th>0</th>\n",
       "      <th>1</th>\n",
       "      <th>2</th>\n",
       "      <th>3</th>\n",
       "    </tr>\n",
       "  </thead>\n",
       "  <tbody>\n",
       "    <tr>\n",
       "      <th>0</th>\n",
       "      <td>product</td>\n",
       "      <td>rating</td>\n",
       "      <td>price</td>\n",
       "      <td>product url</td>\n",
       "    </tr>\n",
       "    <tr>\n",
       "      <th>1</th>\n",
       "      <td>AROEVE Air Purifiers for Home, H13 HEPA Air Pu...</td>\n",
       "      <td>4.5 out of 5 stars</td>\n",
       "      <td>59.99</td>\n",
       "      <td>https://amazon.com/sspa/click?ie=UTF8&amp;spc=MTo3...</td>\n",
       "    </tr>\n",
       "    <tr>\n",
       "      <th>2</th>\n",
       "      <td>Rabbit Air BioGS 2.0 Ultra Quiet HEPA Air Puri...</td>\n",
       "      <td>4.7 out of 5 stars</td>\n",
       "      <td>369.95</td>\n",
       "      <td>https://amazon.com/sspa/click?ie=UTF8&amp;spc=MTo3...</td>\n",
       "    </tr>\n",
       "    <tr>\n",
       "      <th>3</th>\n",
       "      <td>LEVOIT Air Purifier for Home Allergies Pets Ha...</td>\n",
       "      <td>4.7 out of 5 stars</td>\n",
       "      <td>99.99</td>\n",
       "      <td>https://amazon.com/LEVOIT-Purifier-Home-Allerg...</td>\n",
       "    </tr>\n",
       "    <tr>\n",
       "      <th>4</th>\n",
       "      <td>LEVOIT Air Purifiers for Bedroom Home, HEPA Fi...</td>\n",
       "      <td>4.6 out of 5 stars</td>\n",
       "      <td>55.04</td>\n",
       "      <td>https://amazon.com/LEVOIT-Purifiers-Freshener-...</td>\n",
       "    </tr>\n",
       "  </tbody>\n",
       "</table>\n",
       "</div>"
      ],
      "text/plain": [
       "                                                   0                   1  \\\n",
       "0                                            product              rating   \n",
       "1  AROEVE Air Purifiers for Home, H13 HEPA Air Pu...  4.5 out of 5 stars   \n",
       "2  Rabbit Air BioGS 2.0 Ultra Quiet HEPA Air Puri...  4.7 out of 5 stars   \n",
       "3  LEVOIT Air Purifier for Home Allergies Pets Ha...  4.7 out of 5 stars   \n",
       "4  LEVOIT Air Purifiers for Bedroom Home, HEPA Fi...  4.6 out of 5 stars   \n",
       "\n",
       "        2                                                  3  \n",
       "0   price                                        product url  \n",
       "1   59.99  https://amazon.com/sspa/click?ie=UTF8&spc=MTo3...  \n",
       "2  369.95  https://amazon.com/sspa/click?ie=UTF8&spc=MTo3...  \n",
       "3   99.99  https://amazon.com/LEVOIT-Purifier-Home-Allerg...  \n",
       "4   55.04  https://amazon.com/LEVOIT-Purifiers-Freshener-...  "
      ]
     },
     "execution_count": 5,
     "metadata": {},
     "output_type": "execute_result"
    }
   ],
   "source": [
    "df.head()"
   ]
  },
  {
   "cell_type": "markdown",
   "metadata": {},
   "source": [
    "### 새로 시작 하세요! - Kernel restart"
   ]
  },
  {
   "cell_type": "code",
   "execution_count": null,
   "metadata": {},
   "outputs": [],
   "source": []
  },
  {
   "cell_type": "code",
   "execution_count": null,
   "metadata": {},
   "outputs": [],
   "source": [
    "headers = {\n",
    "    'User-Agent': 'Mozilla/5.0 (Windows NT 10.0; Win64; x64; rv:94.0) Gecko/20100101 Firefox/94.0',\n",
    "    'Accept-Language': 'en-US, en;q=0.5'\n",
    "}"
   ]
  },
  {
   "cell_type": "code",
   "execution_count": null,
   "metadata": {},
   "outputs": [],
   "source": [
    "import pandas as pd\n",
    "import requests\n",
    "from bs4 import BeautifulSoup\n",
    "from time import sleep\n",
    "# import simplified_scrapy\n",
    "# from simplified_scrapy.simplified_doc import SimplifiedDoc"
   ]
  },
  {
   "cell_type": "code",
   "execution_count": null,
   "metadata": {},
   "outputs": [],
   "source": [
    "df = pd.read_csv(\"amazon-url.csv\", header=None)"
   ]
  },
  {
   "cell_type": "code",
   "execution_count": null,
   "metadata": {},
   "outputs": [],
   "source": [
    "df.columns"
   ]
  },
  {
   "cell_type": "code",
   "execution_count": null,
   "metadata": {},
   "outputs": [],
   "source": [
    "images = []"
   ]
  },
  {
   "cell_type": "code",
   "execution_count": null,
   "metadata": {},
   "outputs": [],
   "source": [
    "# url = df.iloc[1,1]\n",
    "# response = requests.get(url, headers=headers)\n",
    "# soup = BeautifulSoup(response.content, 'html.parser')\n",
    "# results = soup.find_all('div', {'id': 'imgTagWrapperId', 'class': 'imgTagWrapper'})\n",
    "# for result in results:\n",
    "#     print(result)\n",
    "#     image_url = result.img['src']\n",
    "#     image_tag = result.img['alt']\n",
    "#     images.append([images_tag, image_url])\n",
    "\n",
    "# print(image_url)\n",
    "# sleep(0.5)"
   ]
  },
  {
   "cell_type": "code",
   "execution_count": null,
   "metadata": {},
   "outputs": [],
   "source": []
  },
  {
   "cell_type": "code",
   "execution_count": null,
   "metadata": {},
   "outputs": [],
   "source": [
    "# for idx, row in df.iterrows():\n",
    "# url = df.iloc[idx+1,1]\n",
    "df.head()"
   ]
  },
  {
   "cell_type": "code",
   "execution_count": null,
   "metadata": {},
   "outputs": [],
   "source": [
    "#url = df.iloc[1,1]\n",
    "url='https://www.amazon.com/Medify-MA-50-Air-Purifier-filter/dp/B08S2Y6CTX/ref=sr_1_1_sspa?keywords=air%2Bpurifier&qid=1665383112&qu=eyJxc2MiOiI2LjY4IiwicXNhIjoiNi40NSIsInFzcCI6IjYuMTUifQ%3D%3D&sr=8-1-spons&spLa=ZW5jcnlwdGVkUXVhbGlmaWVyPUEzVVo0WkZVVzc1WUNZJmVuY3J5cHRlZElkPUExMDEzNDk1M0xTRVg2UEU3NkJYWCZlbmNyeXB0ZWRBZElkPUEwMjcyNTIwU1lHODNJTldaM1M0JndpZGdldE5hbWU9c3BfYXRmJmFjdGlvbj1jbGlja1JlZGlyZWN0JmRvTm90TG9nQ2xpY2s9dHJ1ZQ&th=1'\n",
    "#response = requests.get(url, headers=headers)\n",
    "response = requests.get(url)\n",
    "#soup = BeautifulSoup(response.text, 'html.parser')\n",
    "soup = BeautifulSoup(response.content, 'html.parser')\n",
    "print(soup)\n",
    "\n",
    "#results = soup.find_all('div', {'class': 'a-section a-spacing-small a-spacing-top-small'})\n",
    "#results = soup.select('div.a-section a-spacing-small a-spacing-top-small')\n",
    "#results = soup.find_all('div')\n",
    "results = soup.select('div')\n",
    "print(results)"
   ]
  },
  {
   "cell_type": "code",
   "execution_count": null,
   "metadata": {},
   "outputs": [],
   "source": [
    "'''\n",
    "#for result in results:\n",
    "    # print(result)\n",
    "    image_tag = result.img['alt']\n",
    "    image_url = result.img['src']\n",
    "    images.append([image_tag, image_url])\n",
    "    '''\n",
    "    \n",
    "    # print(image_url)\n",
    "    # sleep(0.5)"
   ]
  },
  {
   "cell_type": "code",
   "execution_count": null,
   "metadata": {},
   "outputs": [],
   "source": [
    "df_images = pd.DataFrame(images, columns=['Product Detail', 'image url'])"
   ]
  },
  {
   "cell_type": "code",
   "execution_count": null,
   "metadata": {},
   "outputs": [],
   "source": [
    "df_images.to_csv('amazon_images_url.csv')"
   ]
  },
  {
   "cell_type": "code",
   "execution_count": null,
   "metadata": {},
   "outputs": [],
   "source": []
  },
  {
   "cell_type": "code",
   "execution_count": null,
   "metadata": {},
   "outputs": [],
   "source": []
  },
  {
   "cell_type": "code",
   "execution_count": null,
   "metadata": {},
   "outputs": [],
   "source": []
  },
  {
   "cell_type": "markdown",
   "metadata": {},
   "source": [
    "### Kernel 다시 시작해 주세요!"
   ]
  },
  {
   "cell_type": "markdown",
   "metadata": {},
   "source": [
    "### URL로부터 image 가져오기"
   ]
  },
  {
   "cell_type": "code",
   "execution_count": null,
   "metadata": {},
   "outputs": [],
   "source": [
    "import pandas as pd\n",
    "import urllib.request\n",
    "import re\n",
    "import sys"
   ]
  },
  {
   "cell_type": "code",
   "execution_count": null,
   "metadata": {},
   "outputs": [],
   "source": [
    "df = pd.read_csv(\"amazon_images_url.csv\", header=None)"
   ]
  },
  {
   "cell_type": "code",
   "execution_count": null,
   "metadata": {},
   "outputs": [],
   "source": []
  },
  {
   "cell_type": "code",
   "execution_count": null,
   "metadata": {},
   "outputs": [],
   "source": [
    "for idx, row in df.iterrows():\n",
    "    url = df.iloc[idx+1,2]\n",
    "    file_name = '.\\\\amazon_images\\\\{0}.jpg'.format(idx)\n",
    "    # urllib.request.urlretrieve(url, file_name)\n",
    "    try:\n",
    "        urllib.request.urlretrieve(url, file_name)\n",
    "    except:\n",
    "        pass\n",
    "    print(url)"
   ]
  },
  {
   "cell_type": "code",
   "execution_count": null,
   "metadata": {},
   "outputs": [],
   "source": []
  }
 ],
 "metadata": {
  "colab": {
   "provenance": []
  },
  "kernelspec": {
   "display_name": "Python 3 (ipykernel)",
   "language": "python",
   "name": "python3"
  },
  "language_info": {
   "codemirror_mode": {
    "name": "ipython",
    "version": 3
   },
   "file_extension": ".py",
   "mimetype": "text/x-python",
   "name": "python",
   "nbconvert_exporter": "python",
   "pygments_lexer": "ipython3",
   "version": "3.9.12"
  }
 },
 "nbformat": 4,
 "nbformat_minor": 4
}
