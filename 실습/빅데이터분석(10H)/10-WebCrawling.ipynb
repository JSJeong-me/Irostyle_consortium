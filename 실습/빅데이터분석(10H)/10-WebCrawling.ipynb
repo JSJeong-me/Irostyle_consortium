{
 "cells": [
  {
   "cell_type": "markdown",
   "id": "german-bennett",
   "metadata": {},
   "source": [
    "## 팝업 부분 코드\n",
    "id: safetyStay1 => //*[@id=\"safetyStay1\"] 버튼 클릭을 위해 /div/div/div/button\n",
    "\n",
    "\n",
    "<div id=\"safetyStay1\" class=\"wrap_layerpop\"><!-- active 추가시 활성화 --><!-- 1210 tabindex 추가 -->\n",
    "\t\t\t<div class=\"layerpop\">\n",
    "\t\t\t\t<div class=\"box_cont\">\n",
    "\t\t\t\t\t<a href=\"https://korean.visitkorea.or.kr/notice/news_detail.do?nwsid=b0d49dc8-e6a6-4ec9-a6d5-e0c9c6829476\" tabindex=\"1\">\n",
    "\t\t\t\t\t\t<img src=\"../resources/images/main/img_pop_stg.png\" alt=\"단계별 거리두기 안전여행 가이드 안전여행 기본수칙 - 언제 어디서든 마스크 착용, 실내관광지 보다는 실외관광지 권장, 단체여행 보다는 개별여행 권장, 다른사람과는 최소 1m이상 거리 유지 (문화체육관광부, 한국관광공사)\">\n",
    "\t\t\t\t\t</a>\n",
    "\t\t\t\t\t<div class=\"viewNone\">\n",
    "\t\t\t\t\t\t<input type=\"checkbox\" tabindex=\"2\" id=\"chkForm01\" name=\"\"><label for=\"chkForm01\">오늘하루 그만보기</label>\n",
    "\t\t\t\t\t\t<button type=\"button\" tabindex=\"3\" onclick=\"closeWin(1);\">닫기</button>\n",
    "\t\t\t\t\t</div>\n",
    "\t\t\t\t</div>\n",
    "\t\t\t</div>\n",
    "\t\t</div>"
   ]
  },
  {
   "cell_type": "markdown",
   "id": "swiss-insert",
   "metadata": {},
   "source": [
    "<span>\n",
    "\t\t\t\t\t<!-- 크롬 아이디 자동완성 기능 방지용 -->\n",
    "\t\t\t\t\t<input type=\"text\" style=\"display:none\">\n",
    "\t\t\t\t\t<input type=\"password\" style=\"display:none\">\n",
    "\t\t\t\t\t<!-- //크롬 아이디 자동완성 기능 방지용 -->\n",
    "\t\t\t\t\t<input type=\"text\" placeholder=\"지금은 잠시 멈춰야 할 때! 랜선으로 즐겨봐요\" title=\"검색\" id=\"inp_search\" onkeyup=\"completechk();\" onkeydown=\"wordsListDelete();\" autocomplete=\"off\">\n",
    "\t\t\t\t\t<a href=\"javascript:btnGnbSearch();\" class=\"btn_search\">검색</a>\n",
    "\t\t\t\t</span>"
   ]
  },
  {
   "cell_type": "code",
   "execution_count": null,
   "id": "expired-emission",
   "metadata": {},
   "outputs": [],
   "source": [
    "\n",
    "from bs4 import BeautifulSoup     \n",
    "from selenium import webdriver\n",
    "import time\n",
    "import sys\n",
    "import datetime\n",
    "\n",
    "\n",
    "#1. 크롬 드라이버를 사용해서 웹 브라우저를 실행합니다\n",
    "#query_txt = input('크롤링할 키워드는 무엇입니까?: ')\n",
    "query_txt='봄여행'\n",
    "\n",
    "path = \"D:/programs/chromedriver/chromedriver.exe\"\n",
    "driver = webdriver.Chrome(path)\n",
    "\n",
    "driver.get(\"https://korean.visitkorea.or.kr\")\n",
    "time.sleep(2)  # 위 페이지가 모두 열릴 때 까지 2초 기다립니다.\n",
    "\n",
    "#코로나 얼럿창 있을 경우 닫기 클릭하기 \n",
    "try :\n",
    "    driver.find_element_by_xpath('//*[@id=\"safetyStay1\"]/div/div/div/button').click()\n",
    "except :\n",
    "    print(\"알림창이 없습니다\")"
   ]
  },
  {
   "cell_type": "markdown",
   "id": "digital-poison",
   "metadata": {},
   "source": [
    "##검색 부분 코드\n",
    "<span>\n",
    "\t\t\t\t\t<!-- 크롬 아이디 자동완성 기능 방지용 -->\n",
    "\t\t\t\t\t<input type=\"text\" style=\"display:none\">\n",
    "\t\t\t\t\t<input type=\"password\" style=\"display:none\">\n",
    "\t\t\t\t\t<!-- //크롬 아이디 자동완성 기능 방지용 -->\n",
    "\t\t\t\t\t<input type=\"text\" placeholder=\"지금은 잠시 멈춰야 할 때! 랜선으로 즐겨봐요\" title=\"검색\" id=\"inp_search\" onkeyup=\"completechk();\" onkeydown=\"wordsListDelete();\" autocomplete=\"off\">\n",
    "\t\t\t\t\t<a href=\"javascript:btnGnbSearch();\" class=\"btn_search\">검색</a>\n",
    "\t\t\t\t</span>\n"
   ]
  },
  {
   "cell_type": "code",
   "execution_count": null,
   "id": "coupled-profession",
   "metadata": {},
   "outputs": [],
   "source": [
    "#2. 검색창의 이름을 찾아서 검색어를 입력합니다\n",
    "#driver.find_element_by_class_name(\"btn_search\").click()\n",
    "\n",
    "element = driver.find_element_by_id(\"inp_search\")\n",
    "\n",
    "\n"
   ]
  },
  {
   "cell_type": "code",
   "execution_count": null,
   "id": "vulnerable-bullet",
   "metadata": {},
   "outputs": [],
   "source": [
    "#3. 검색 버튼을 눌러 실행합니다\n",
    "\n",
    "element.send_keys(query_txt)\n",
    "element.send_keys(\"\\n\")\n",
    "\n",
    "# driver.find_element_by_link_text(\"검색\").click()"
   ]
  },
  {
   "cell_type": "markdown",
   "id": "conditional-thousand",
   "metadata": {},
   "source": [
    "##"
   ]
  },
  {
   "cell_type": "code",
   "execution_count": null,
   "id": "dedicated-watershed",
   "metadata": {},
   "outputs": [],
   "source": [
    "# Step 4. 현재 페이지에 있는 내용을 화면에 출력하기\n",
    "\n",
    "time.sleep(1)\n",
    "\n",
    "full_html = driver.page_source\n",
    "\n"
   ]
  },
  {
   "cell_type": "code",
   "execution_count": null,
   "id": "attempted-tender",
   "metadata": {},
   "outputs": [],
   "source": [
    "print(full_html)"
   ]
  },
  {
   "cell_type": "markdown",
   "id": "collectible-marketing",
   "metadata": {},
   "source": [
    "##해당 코드 <ul class=\"list_thumType type1\"> 로 시작\n",
    "<ul class=\"list_thumType type1\">...생략...</ul>"
   ]
  },
  {
   "cell_type": "code",
   "execution_count": null,
   "id": "removed-romania",
   "metadata": {},
   "outputs": [],
   "source": [
    "soup = BeautifulSoup(full_html, 'html.parser')\n",
    "\n",
    "content_list = soup.find('ul','list_thumType type1')\n",
    "\n",
    "for i in content_list:\n",
    "    print(i.text.strip())\n",
    "    print(\"\\n\")\n",
    " "
   ]
  },
  {
   "cell_type": "code",
   "execution_count": null,
   "id": "quick-poison",
   "metadata": {},
   "outputs": [],
   "source": [
    "#f_name = input('검색 결과를 저장할 파일경로와 이름을 지정하세요(예:d:\\\\temp\\\\test.txt): ')\n",
    "nowDate = datetime.datetime.now()\n",
    "f_name = \"d:\\\\temp\\\\\" + nowDate.strftime(\"%Y%m%d-%H%M\") + \".txt\"\n",
    "\n",
    "orig_stdout = sys.stdout\n",
    "##f = open(f_name , 'a' , encoding='UTF-8')\n",
    "f = open(f_name , 'w' , encoding='UTF-8')\n",
    "sys.stdout = f\n",
    "time.sleep(1)\n",
    "\n",
    "\n",
    "for i in content_list:\n",
    "    print(i.text.strip())\n",
    "    print(\"\\n\")\n",
    "    \n",
    "sys.stdout = orig_stdout\n",
    "f.close()\n",
    "\n",
    "print('요청하신 데이터 수집내용이 %s에 저장되었습니다'%f_name)"
   ]
  },
  {
   "cell_type": "code",
   "execution_count": null,
   "id": "breeding-kingston",
   "metadata": {},
   "outputs": [],
   "source": []
  }
 ],
 "metadata": {
  "kernelspec": {
   "display_name": "Python 3 (ipykernel)",
   "language": "python",
   "name": "python3"
  },
  "language_info": {
   "codemirror_mode": {
    "name": "ipython",
    "version": 3
   },
   "file_extension": ".py",
   "mimetype": "text/x-python",
   "name": "python",
   "nbconvert_exporter": "python",
   "pygments_lexer": "ipython3",
   "version": "3.9.12"
  }
 },
 "nbformat": 4,
 "nbformat_minor": 5
}
