{
  "cells": [
    {
      "cell_type": "markdown",
      "metadata": {
        "id": "view-in-github",
        "colab_type": "text"
      },
      "source": [
        "<a href=\"https://colab.research.google.com/github/JSJeong-me/Irostyle_consortium/blob/main/%EA%B3%BC%EC%A0%9C(32H)/4-statistics-intro.ipynb\" target=\"_parent\"><img src=\"https://colab.research.google.com/assets/colab-badge.svg\" alt=\"Open In Colab\"/></a>"
      ]
    },
    {
      "cell_type": "markdown",
      "metadata": {
        "id": "GvteZn5wsGjK"
      },
      "source": [
        "MLB 선수연봉 데이터 불러오기"
      ]
    },
    {
      "cell_type": "code",
      "execution_count": null,
      "metadata": {
        "id": "8z-i0vHCVAQn"
      },
      "outputs": [],
      "source": [
        "!nvcc --version"
      ]
    },
    {
      "cell_type": "code",
      "execution_count": null,
      "metadata": {
        "id": "OJ-P9zFFVG0G"
      },
      "outputs": [],
      "source": [
        "#!nvcc --help"
      ]
    },
    {
      "cell_type": "code",
      "execution_count": null,
      "metadata": {
        "id": "dY1FluEgr9h1"
      },
      "outputs": [],
      "source": [
        "import pandas as pd\n",
        "df=pd.read_csv('http://wolfpack.hnu.ac.kr/big_data/data/MLB1871_2018/Salaries.csv')"
      ]
    },
    {
      "cell_type": "code",
      "execution_count": null,
      "metadata": {
        "id": "aEzbI6detECq"
      },
      "outputs": [],
      "source": [
        "df.shape"
      ]
    },
    {
      "cell_type": "code",
      "source": [
        "df.tail()"
      ],
      "metadata": {
        "id": "aY_jCwUDyegP"
      },
      "execution_count": null,
      "outputs": []
    },
    {
      "cell_type": "markdown",
      "metadata": {
        "id": "1XeuZ2YwKVdn"
      },
      "source": [
        "결측치 제거"
      ]
    },
    {
      "cell_type": "code",
      "execution_count": null,
      "metadata": {
        "id": "wY01PUqK8qWB"
      },
      "outputs": [],
      "source": [
        "df.dropna(inplace=True)\n",
        "df.shape"
      ]
    },
    {
      "cell_type": "markdown",
      "metadata": {
        "id": "wxDJ3UzoKH3g"
      },
      "source": [
        "*선수연봉* 2018년 subset"
      ]
    },
    {
      "cell_type": "code",
      "execution_count": null,
      "metadata": {
        "id": "2X1uG8WRu-O2"
      },
      "outputs": [],
      "source": [
        "df16=df[(df['yearID']==2016) & (df['salary']>0)] #연봉 0 초과 선수만 활용\n",
        "df16.head(3)"
      ]
    },
    {
      "cell_type": "code",
      "source": [
        "df16.index"
      ],
      "metadata": {
        "id": "iOgL6IEZ0BKE"
      },
      "execution_count": null,
      "outputs": []
    },
    {
      "cell_type": "code",
      "execution_count": null,
      "metadata": {
        "id": "wN0dCP4BOCpB"
      },
      "outputs": [],
      "source": [
        "import plotly.express as px\n",
        "fig = px.scatter(df16, x=\"salary\", y=\"playerID\", color=\"lgID\",title=\"Player Salary with lgID\")\n",
        "fig.show()"
      ]
    },
    {
      "cell_type": "code",
      "execution_count": null,
      "metadata": {
        "id": "vNw6oseLly6_"
      },
      "outputs": [],
      "source": []
    },
    {
      "cell_type": "code",
      "execution_count": null,
      "metadata": {
        "id": "X8SghvkAvVBZ"
      },
      "outputs": [],
      "source": [
        "import seaborn as sns\n",
        "import matplotlib.pyplot as plt\n",
        "sns.kdeplot(df16.salary).set_title('Kernel of 2016 Salary')\n",
        "plt.show()"
      ]
    },
    {
      "cell_type": "code",
      "execution_count": null,
      "metadata": {
        "id": "woxJUd8Fwtek"
      },
      "outputs": [],
      "source": [
        "sns.distplot(df16.salary).set_title('Histogram of 2016 Salary')\n",
        "plt.show()"
      ]
    },
    {
      "cell_type": "code",
      "execution_count": null,
      "metadata": {
        "id": "9cxvz7gbxkKY"
      },
      "outputs": [],
      "source": [
        "sns.boxplot(x=\"salary\",data =df16).set_title('Boxplot of 2016 Salary')\n",
        "plt.show()"
      ]
    },
    {
      "cell_type": "markdown",
      "metadata": {
        "id": "YkusLAYX7Y5y"
      },
      "source": [
        "## 실습\n",
        "\n",
        "\n",
        "*   2018년 선수연봉과 2011년 선수연봉의 상자그림을 그리고 시각적으로 해석하시오.\n",
        "\n",
        "\n",
        "\n"
      ]
    },
    {
      "cell_type": "code",
      "execution_count": null,
      "metadata": {
        "id": "F4atePdaxEKE"
      },
      "outputs": [],
      "source": []
    },
    {
      "cell_type": "markdown",
      "metadata": {
        "id": "PhlzDc_LKeZ3"
      },
      "source": [
        "##중심극한 정리 활용"
      ]
    },
    {
      "cell_type": "markdown",
      "metadata": {
        "id": "dejtXRwbLNbB"
      },
      "source": [
        "sample data 만들기 n=50"
      ]
    },
    {
      "cell_type": "code",
      "execution_count": null,
      "metadata": {
        "id": "eZopD6W-LVaI"
      },
      "outputs": [],
      "source": [
        "df_sample=df16['salary'].sample(n=50, random_state=123) #seed=109"
      ]
    },
    {
      "cell_type": "code",
      "execution_count": null,
      "metadata": {
        "id": "Cl43sslHMZC3"
      },
      "outputs": [],
      "source": [
        "sns.boxplot(df_sample).set_title('Boxplot of 2016 Salary : train=sample')\n",
        "plt.show()"
      ]
    },
    {
      "cell_type": "markdown",
      "metadata": {
        "id": "FSnLUrzLYqq5"
      },
      "source": [
        "크기 50인 확률표본  -> 평균, 100개 만들기"
      ]
    },
    {
      "cell_type": "code",
      "execution_count": null,
      "metadata": {
        "id": "fVpmwJUcTHSC"
      },
      "outputs": [],
      "source": [
        "xbar=[]\n",
        "for k in range(0,100):\n",
        "  xbar.append(df16['salary'].sample(n=50).mean())"
      ]
    },
    {
      "cell_type": "code",
      "execution_count": null,
      "metadata": {
        "id": "H7I1uDKkVD5H"
      },
      "outputs": [],
      "source": [
        "sns.boxplot(xbar).set_title('Boxplot of 2016 Salary : sample-mean')\n",
        "plt.show()"
      ]
    },
    {
      "cell_type": "markdown",
      "metadata": {
        "id": "TXpEqRrTZDEH"
      },
      "source": [
        "##모집단 추론\n",
        "2086년 MLB 선수들의 연봉이 40만불 이상인가?"
      ]
    },
    {
      "cell_type": "code",
      "execution_count": null,
      "metadata": {
        "id": "ORd4a5SRQxeY"
      },
      "outputs": [],
      "source": [
        "pd.options.display.float_format = '{:.2f}'.format\n",
        "print('Population mean %.1f' % df16['salary'].mean()) #모잡단 연봉"
      ]
    },
    {
      "cell_type": "markdown",
      "metadata": {
        "id": "SL-soFGxZjpi"
      },
      "source": [
        "추정"
      ]
    },
    {
      "cell_type": "code",
      "execution_count": null,
      "metadata": {
        "id": "lQf4hzzsZjFX"
      },
      "outputs": [],
      "source": [
        "print('Point estimaor %.1f' % df_sample.mean())"
      ]
    },
    {
      "cell_type": "code",
      "execution_count": null,
      "metadata": {
        "id": "wF7UjbSAa1W2"
      },
      "outputs": [],
      "source": [
        "import scipy.stats as st\n",
        "import numpy as np\n",
        "LB=df_sample.mean()-st.t.ppf(0.975,df_sample.shape[0]-1)*df_sample.std()/np.sqrt(df_sample.shape[0])\n",
        "UB=df_sample.mean()+st.t.ppf(0.975,df_sample.shape[0]-1)*df_sample.std()/np.sqrt(df_sample.shape[0])\n",
        "print('95%'+' confidence interval (%.1f , %.1f)' % (LB, UB))"
      ]
    },
    {
      "cell_type": "markdown",
      "metadata": {
        "id": "myidGZmLZmZQ"
      },
      "source": [
        "가설검정\n",
        "\n",
        "\n",
        "> H0 : mu=40 H1: mu!=40\n",
        "\n"
      ]
    },
    {
      "cell_type": "code",
      "execution_count": null,
      "metadata": {
        "id": "tnlBx61kZXf7"
      },
      "outputs": [],
      "source": [
        "from scipy import stats\n",
        "stats.ttest_1samp(df_sample,40)"
      ]
    },
    {
      "cell_type": "code",
      "source": [],
      "metadata": {
        "id": "dcxf0HCm1Ain"
      },
      "execution_count": null,
      "outputs": []
    }
  ],
  "metadata": {
    "accelerator": "GPU",
    "colab": {
      "name": "statistic-01.ipynb",
      "private_outputs": true,
      "provenance": [],
      "include_colab_link": true
    },
    "kernelspec": {
      "display_name": "Python 3",
      "language": "python",
      "name": "python3"
    },
    "language_info": {
      "codemirror_mode": {
        "name": "ipython",
        "version": 3
      },
      "file_extension": ".py",
      "mimetype": "text/x-python",
      "name": "python",
      "nbconvert_exporter": "python",
      "pygments_lexer": "ipython3",
      "version": "3.7.10"
    }
  },
  "nbformat": 4,
  "nbformat_minor": 0
}