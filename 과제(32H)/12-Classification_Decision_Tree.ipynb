{
 "cells": [
  {
   "cell_type": "code",
   "execution_count": null,
   "id": "alike-amplifier",
   "metadata": {},
   "outputs": [],
   "source": [
    "# 데이터 구조\n",
    "import pandas as pd\n",
    "# 데이터 시각화\n",
    "import matplotlib.pyplot as plt ; import matplotlib\n",
    "# 나무 구조 시각화\n",
    "from sklearn.tree import plot_tree\n",
    "# 데이터 분할: Train, Test\n",
    "from sklearn.model_selection import train_test_split\n",
    "# 의사결정나무\n",
    "from sklearn.tree import DecisionTreeClassifier\n",
    "# 최적 모델, 파라미터 탐색\n",
    "from sklearn.model_selection import GridSearchCV\n",
    "# 모델 성능 평가\n",
    "from sklearn.metrics import confusion_matrix\n",
    "from sklearn.metrics import classification_report"
   ]
  },
  {
   "cell_type": "code",
   "execution_count": null,
   "id": "vocal-inventory",
   "metadata": {},
   "outputs": [],
   "source": [
    "# 한글 폰트 설정\n",
    "matplotlib.rc(\"font\", family = \"Malgun Gothic\")\n",
    "# 음수 표시 설정\n",
    "matplotlib.rc(\"axes\", unicode_minus = False)"
   ]
  },
  {
   "cell_type": "code",
   "execution_count": null,
   "id": "proprietary-array",
   "metadata": {},
   "outputs": [],
   "source": [
    "# 데이터 불러오기\n",
    "df_raw = pd.read_csv(\"../data/bank.csv\")\n",
    "df_raw.head()"
   ]
  },
  {
   "cell_type": "code",
   "execution_count": null,
   "id": "molecular-college",
   "metadata": {},
   "outputs": [],
   "source": [
    "# 결측치 확인\n",
    "df_raw.isnull().sum(axis = 0)\n",
    "# JOB 변수의 결측치는 \"Other\"로 대체\n",
    "df_raw[\"JOB\"].fillna(\"Other\", inplace = True)\n",
    "# 숫자형 변수의 결측치는 해당 변수의 평균값으로 대체\n",
    "df_raw.fillna(df_raw.mean(), inplace=True)"
   ]
  },
  {
   "cell_type": "code",
   "execution_count": null,
   "id": "small-gravity",
   "metadata": {},
   "outputs": [],
   "source": [
    "# get_dummies: 데이터의 문자형 변수에 대한 더미변수 생성\n",
    "df_raw_dummy = pd.get_dummies(df_raw)\n",
    "# 더미변수 생성된 데이터의 상위 5개 row를 확인\n",
    "df_raw_dummy.head()"
   ]
  },
  {
   "cell_type": "code",
   "execution_count": null,
   "id": "empty-joint",
   "metadata": {},
   "outputs": [],
   "source": [
    "# 학습용/평가용 데이터 분리\n",
    "df_train, df_test = train_test_split(df_raw_dummy, test_size = 0.3, random_state = 1234)\n",
    "print(\"학습용 데이터의 크기 : {}\".format(df_train.shape))\n",
    "print(\"평가용 데이터의 크기 : {}\".format(df_test.shape))"
   ]
  },
  {
   "cell_type": "code",
   "execution_count": null,
   "id": "identified-isolation",
   "metadata": {},
   "outputs": [],
   "source": [
    "# 설명변수와 목표변수를 분리\n",
    "df_train_y = df_train[\"BAD\"]\n",
    "df_train_x = df_train.drop(\"BAD\", axis = 1, inplace = False)\n",
    "df_test_y = df_test[\"BAD\"]\n",
    "df_test_x = df_test.drop(\"BAD\", axis = 1, inplace = False)"
   ]
  },
  {
   "cell_type": "code",
   "execution_count": null,
   "id": "explicit-cargo",
   "metadata": {},
   "outputs": [],
   "source": [
    "tree_uncustomized = DecisionTreeClassifier(random_state=1234)\n",
    "tree_uncustomized.fit(df_train_x, df_train_y)\n",
    "# 학습용 데이터 정확도\n",
    "print(\"학습용 데이터의 정확도 : {:.3f}\".format(tree_uncustomized.score(df_train_x, df_train_y)))\n",
    "# 평가용 데이터 정확도\n",
    "print(\"평가용 데이터의 정확도 : {:.3f}\".format(tree_uncustomized.score(df_test_x, df_test_y)))"
   ]
  },
  {
   "cell_type": "code",
   "execution_count": null,
   "id": "destroyed-evolution",
   "metadata": {},
   "outputs": [],
   "source": [
    "estimator = DecisionTreeClassifier()\n",
    "# 구하고자 하는 parameter와 범위\n",
    "param_grid = {\"max_depth\": [4, 5, 6, 7], \"min_samples_split\": [2, 4, 6, 8, 10, 12, 14, 16, 18, 20],\n",
    "\"min_samples_leaf\": [1, 2, 3, 4, 5, 6, 7, 8, 9, 10]}\n",
    "# 정확도가 높은 최적 parameter 찾기\n",
    "grid_dt = GridSearchCV(estimator, param_grid, scoring=\"accuracy\", n_jobs = -1)\n",
    "grid_dt.fit(df_train_x, df_train_y)\n",
    "print(\"best estimator model: \\n{}\".format(grid_dt.best_estimator_))\n",
    "print(\"\\nbest parameter: \\n{}\".format(grid_dt.best_params_))\n",
    "print(\"\\nbest score: \\n{}\".format(grid_dt.best_score_.round(3)))"
   ]
  },
  {
   "cell_type": "code",
   "execution_count": null,
   "id": "instrumental-rendering",
   "metadata": {},
   "outputs": [],
   "source": [
    "tree_final = DecisionTreeClassifier(max_depth = 6, min_samples_split = 8, min_samples_leaf =1,\n",
    "random_state=1234)\n",
    "tree_final.fit(df_train_x, df_train_y)\n",
    "# 학습용 데이터 정확도\n",
    "print(\"학습용 데이터의 정확도: {:.3f}\".format(tree_final.score(df_train_x, df_train_y)))\n",
    "# 평가용 데이터 정확도\n",
    "print(\"평가용 데이터의 정확도: {:.3f}\".format(tree_final.score(df_test_x, df_test_y)))"
   ]
  },
  {
   "cell_type": "code",
   "execution_count": null,
   "id": "significant-desire",
   "metadata": {},
   "outputs": [],
   "source": [
    "# 변수명 저장\n",
    "v_feature_name = df_train_x.columns\n",
    "plt.figure(figsize = (10, 7))\n",
    "plot_tree(tree_final,\n",
    "feature_names = v_feature_name,\n",
    "filled = True);"
   ]
  },
  {
   "cell_type": "code",
   "execution_count": null,
   "id": "owned-twist",
   "metadata": {},
   "outputs": [],
   "source": [
    "# tree.feature_importances로 설명변수 중요도 확인 및 테이블로 저장\n",
    "df_importance = pd.DataFrame()\n",
    "df_importance[\"Feature\"] = df_train_x.columns\n",
    "df_importance[\"Importance\"] = tree_final.feature_importances_\n",
    "# df_feature_importance의 테이블을 중요도별로 정렬\n",
    "df_importance.sort_values(\"Importance\", ascending=False, inplace = True)\n",
    "df_importance.round(3)"
   ]
  },
  {
   "cell_type": "code",
   "execution_count": null,
   "id": "headed-dressing",
   "metadata": {},
   "outputs": [],
   "source": [
    "# 설명변수 중요도 그래프\n",
    "df_importance.sort_values(\"Importance\", ascending=True, inplace = True)\n",
    "coordinates = range(len(df_importance))\n",
    "plt.barh(y = coordinates, width = df_importance[\"Importance\"])\n",
    "plt.yticks(coordinates, df_importance[\"Feature\"])\n",
    "plt.xlabel(\"변수 중요도\")\n",
    "plt.ylabel(\"변수\")"
   ]
  }
 ],
 "metadata": {
  "kernelspec": {
   "display_name": "Python 3",
   "language": "python",
   "name": "python3"
  },
  "language_info": {
   "codemirror_mode": {
    "name": "ipython",
    "version": 3
   },
   "file_extension": ".py",
   "mimetype": "text/x-python",
   "name": "python",
   "nbconvert_exporter": "python",
   "pygments_lexer": "ipython3",
   "version": "3.7.10"
  }
 },
 "nbformat": 4,
 "nbformat_minor": 5
}
