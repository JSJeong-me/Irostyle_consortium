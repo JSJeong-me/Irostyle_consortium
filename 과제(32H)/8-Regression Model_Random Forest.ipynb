{
 "cells": [
  {
   "cell_type": "code",
   "execution_count": null,
   "id": "arabic-transport",
   "metadata": {},
   "outputs": [],
   "source": [
    "# 데이터 구조\n",
    "import pandas as pd\n",
    "# 데이터 시각화\n",
    "import matplotlib.pyplot as plt\n",
    "import matplotlib\n",
    "# 데이터 분할: train, test\n",
    "from sklearn.model_selection import train_test_split\n",
    "# 회귀 Random Forest\n",
    "from sklearn.ensemble import RandomForestRegressor\n",
    "# 최적 모델, 파라미터 탐색\n",
    "from sklearn.model_selection import GridSearchCV\n",
    "# 나무구조 시각화\n",
    "from sklearn.tree import plot_tree"
   ]
  },
  {
   "cell_type": "code",
   "execution_count": null,
   "id": "fiscal-jewelry",
   "metadata": {},
   "outputs": [],
   "source": [
    "# 한글 맑은 고딕 적용\n",
    "matplotlib.rc(\"font\", family = \"Malgun Gothic\")\n",
    "# 음수값 표시\n",
    "matplotlib.rc(\"axes\", unicode_minus = False)"
   ]
  },
  {
   "cell_type": "code",
   "execution_count": null,
   "id": "awful-atlas",
   "metadata": {},
   "outputs": [],
   "source": [
    "# 파일명, 변수, 값 등에 한글 포함시 encoding=“euc-kr\" 지정\n",
    "df_raw = pd.read_csv(\"../data/body.csv\")\n",
    "df_raw.head()\n",
    "# 목표변수, 설명변수 분리\n",
    "df_raw_y = df_raw[\"FAT\"]\n",
    "df_raw_x = df_raw.drop(\"FAT\", axis = 1, inplace = False)\n",
    "# 학습용/평가용 데이터 분리\n",
    "df_train_x, df_test_x, df_train_y, df_test_y = train_test_split(df_raw_x, df_raw_y,\n",
    "test_size = 0.3, random_state = 1234)\n",
    "print(\"학습용 데이터의 X 크기 : {}\".format(df_train_x.shape))\n",
    "print(\"학습용 데이터의 Y 크기 : {}\".format(df_train_y.shape))\n",
    "print(\"평가용 데이터의 X 크기 : {}\".format(df_test_x.shape))\n",
    "print(\"평가용 데이터의 Y 크기 : {}\".format(df_test_y.shape))"
   ]
  },
  {
   "cell_type": "code",
   "execution_count": null,
   "id": "judicial-enterprise",
   "metadata": {},
   "outputs": [],
   "source": [
    "rf_uncustomized = RandomForestRegressor(random_state=1234)\n",
    "rf_uncustomized.fit(df_train_x, df_train_y)\n",
    "# 학습용 데이터 설명력\n",
    "print(\"학습용 데이터의 설명력 : {:.3f}\".format(rf_uncustomized.score(df_train_x, df_train_y)))\n",
    "# 평가용 데이터 설명력\n",
    "print(\"평가용 데이터의 설명력 : {:.3f}\".format(rf_uncustomized.score(df_test_x, df_test_y)))"
   ]
  },
  {
   "cell_type": "code",
   "execution_count": null,
   "id": "harmful-teach",
   "metadata": {},
   "outputs": [],
   "source": [
    "estimator = RandomForestRegressor(random_state=1234)\n",
    "# 구하고자 하는 parameter와 범위\n",
    "param_grid = {\"n_estimators\": [100, 150, 200],\"max_depth\": [5, 6, 7, 8, 9], \"min_samples_split\": [1, 2, 3, 4],\n",
    "\"min_samples_leaf\": [2, 4, 6, 8]}\n",
    "# 설명력이 높은 최적 parameter 찾기\n",
    "grid_dt = GridSearchCV(estimator, param_grid, scoring=\"r2\", n_jobs = -1)\n",
    "grid_dt.fit(df_train_x, df_train_y)\n",
    "print(\"best estimator model: \\n{}\".format(grid_dt.best_estimator_))\n",
    "print(\"\\nbest parameter: \\n{}\".format(grid_dt.best_params_))\n",
    "print(\"\\nbest score: \\n{}\".format(grid_dt.best_score_.round(3)))"
   ]
  },
  {
   "cell_type": "code",
   "execution_count": null,
   "id": "terminal-employment",
   "metadata": {},
   "outputs": [],
   "source": [
    "rf_final = RandomForestRegressor(n_estimators = 100, max_depth = 8, min_samples_split = 2,\n",
    "min_samples_leaf = 4, random_state=1234)\n",
    "rf_final.fit(df_train_x, df_train_y)\n",
    "# 학습용 데이터 설명력\n",
    "print(\"학습용 데이터의 설명력: {:.3f}\".format(rf_final.score(df_train_x, df_train_y)))\n",
    "# 평가용 데이터 설명력\n",
    "330\n",
    "print(\"평가용 데이터의 설명력: {:.3f}\".format(rf_final.score(df_test_x, df_test_y)))"
   ]
  },
  {
   "cell_type": "code",
   "execution_count": null,
   "id": "needed-executive",
   "metadata": {},
   "outputs": [],
   "source": [
    "# 변수 저장\n",
    "v_feature_name = df_train_x.columns\n",
    "# 0번 트리\n",
    "plt.figure(figsize = (10, 7))\n",
    "plot_tree(rf_final.estimators_[0], feature_names = v_feature_name, filled = True);\n",
    "# 1번 트리\n",
    "plt.figure(figsize = (10, 7))\n",
    "plot_tree(rf_final.estimators_[1], feature_names = v_feature_name, filled = True);\n",
    "# 10번 트리\n",
    "plt.figure(figsize = (10, 7))\n",
    "plot_tree(rf_final.estimators_[10], feature_names = v_feature_name, filled = True);"
   ]
  },
  {
   "cell_type": "code",
   "execution_count": null,
   "id": "seventh-humanitarian",
   "metadata": {},
   "outputs": [],
   "source": [
    "# tree.feature_importances_로 설명변수 중요도 확인 및 테이블로 저장\n",
    "df_importance = pd.DataFrame()\n",
    "df_importance[\"Feature\"] = df_train_x.columns\n",
    "df_importance[\"Importance\"] = rf_final.feature_importances_\n",
    "# df_feature_importance의 테이블을 중요도 순으로 정렬\n",
    "df_importance.sort_values(\"Importance\", ascending=False, inplace = True)\n",
    "df_importance.round(3)"
   ]
  }
 ],
 "metadata": {
  "kernelspec": {
   "display_name": "Python 3",
   "language": "python",
   "name": "python3"
  },
  "language_info": {
   "codemirror_mode": {
    "name": "ipython",
    "version": 3
   },
   "file_extension": ".py",
   "mimetype": "text/x-python",
   "name": "python",
   "nbconvert_exporter": "python",
   "pygments_lexer": "ipython3",
   "version": "3.7.10"
  }
 },
 "nbformat": 4,
 "nbformat_minor": 5
}
