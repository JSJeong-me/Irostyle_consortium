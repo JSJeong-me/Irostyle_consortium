{
 "cells": [
  {
   "cell_type": "code",
   "execution_count": null,
   "id": "excess-definition",
   "metadata": {},
   "outputs": [],
   "source": [
    "# 데이터 구조\n",
    "import pandas as pd\n",
    "# 행렬 연산\n",
    "import numpy as np\n",
    "# 데이터 시각화\n",
    "import matplotlib.pyplot as plt\n",
    "import matplotlib\n",
    "# 데이터 분할: train, test\n",
    "from sklearn.model_selection import train_test_split\n",
    "# 로지스틱 회귀모델\n",
    "from statsmodels.api import Logit\n",
    "# 평가 함수\n",
    "from sklearn.metrics import accuracy_score\n",
    "# confusion matrix\n",
    "from sklearn.metrics import confusion_matrix\n",
    "from sklearn.metrics import classification_report"
   ]
  },
  {
   "cell_type": "code",
   "execution_count": null,
   "id": "solved-reflection",
   "metadata": {},
   "outputs": [],
   "source": [
    "# 한글 폰트 설정\n",
    "matplotlib.rc(\"font\", family = \"Malgun Gothic\")\n",
    "# 음수 표시 설정\n",
    "matplotlib.rc(\"axes\", unicode_minus = False)"
   ]
  },
  {
   "cell_type": "code",
   "execution_count": null,
   "id": "previous-recognition",
   "metadata": {},
   "outputs": [],
   "source": [
    "df_raw = pd.read_csv(\"../data/bank.csv\")\n",
    "df_raw.head()"
   ]
  },
  {
   "cell_type": "code",
   "execution_count": null,
   "id": "universal-thanks",
   "metadata": {},
   "outputs": [],
   "source": [
    "# 결측치 확인\n",
    "df_raw.isnull().sum(axis = 0)"
   ]
  },
  {
   "cell_type": "code",
   "execution_count": null,
   "id": "double-endorsement",
   "metadata": {},
   "outputs": [],
   "source": [
    "# fillna: 결측치 대체 함수\n",
    "# JOB 변수의 결측치는 \"Other\"로 대체\n",
    "df_raw[\"JOB\"].fillna(\"Other\", inplace = True)\n",
    "# 숫자형 변수의 결측치는 해당 변수의 평균값으로 대체\n",
    "df_raw.fillna(df_raw.mean(), inplace=True)"
   ]
  },
  {
   "cell_type": "code",
   "execution_count": null,
   "id": "hydraulic-senior",
   "metadata": {},
   "outputs": [],
   "source": [
    "# 학습용/평가용 데이터 분리\n",
    "df_train, df_test = train_test_split(df_raw, test_size = 0.3, random_state = 1234)\n",
    "print(\"학습용 데이터 크기 : {}\".format(df_train.shape))\n",
    "print(\"평가용 데이터 크기 : {}\".format(df_test.shape))"
   ]
  },
  {
   "cell_type": "code",
   "execution_count": null,
   "id": "better-denial",
   "metadata": {},
   "outputs": [],
   "source": [
    "# from_formula 함수를 이용하여 변수 역할 지정\n",
    "log_model = Logit.from_formula(\"\"\"BAD ~ LOAN + MORTDUE + VALUE + C(REASON) + C(JOB) + YOJ +\n",
    "DEROG + DELINQ + CLAGE + NINQ + CLNO + DEBTINC\"\"\" , df_train)\n",
    "# 모델 적용\n",
    "log_result = log_model.fit()\n",
    "# 결과 출력\n",
    "print(log_result.summary())"
   ]
  },
  {
   "cell_type": "code",
   "execution_count": null,
   "id": "tender-possibility",
   "metadata": {},
   "outputs": [],
   "source": [
    "# 유의하지 않은 변수를 반복적으로 제거한 후 모델 수립\n",
    "log_model = Logit.from_formula(\"\"\"BAD ~ C(JOB) + DEROG +\n",
    "DELINQ + CLAGE + NINQ + CLNO + DEBTINC\"\"\" , df_train)\n",
    "# 모델 적용\n",
    "log_result = log_model.fit()\n",
    "# 결과 출력\n",
    "print(log_result.summary())"
   ]
  },
  {
   "cell_type": "code",
   "execution_count": null,
   "id": "looking-professional",
   "metadata": {},
   "outputs": [],
   "source": [
    "# 학습용 데이터 예측\n",
    "y_pred = log_result.predict(df_train)\n",
    "# 0과 1의 값을 가진 class로 변환\n",
    "y_pred_class = (y_pred > 0.5).astype(int)\n",
    "print(\"학습용 데이터 정확도: {0:.3f}\".format(accuracy_score(df_train[\"BAD\"], y_pred_class)))\n",
    "# 평가용 데이터 예측\n",
    "y_pred = log_result.predict(df_test)\n",
    "y_pred_class = (y_pred > 0.5).astype(int)\n",
    "print(\"평가용 데이터 정확도: {0:.3f}\".format(accuracy_score(df_test[\"BAD\"], y_pred_class)))"
   ]
  },
  {
   "cell_type": "code",
   "execution_count": null,
   "id": "inclusive-three",
   "metadata": {},
   "outputs": [],
   "source": [
    "# 실제 학습용 데이터의 목표변수와 예측값 비교\n",
    "print(\"Confusion Matrix: \\n{}\".format(confusion_matrix(df_test[\"BAD\"],y_pred_class)))"
   ]
  },
  {
   "cell_type": "code",
   "execution_count": null,
   "id": "forward-world",
   "metadata": {},
   "outputs": [],
   "source": [
    "# 실제 학습용 데이터의 목표변수와 예측값 비교\n",
    "print(\"Classification Report: \", classification_report(df_test[\"BAD\"], y_pred_class))"
   ]
  },
  {
   "cell_type": "code",
   "execution_count": null,
   "id": "vital-processing",
   "metadata": {},
   "outputs": [],
   "source": [
    "# 설명변수 중요도\n",
    "df_logistic_coef = pd.DataFrame({\"Coef\": log_result.params.values[1:]}, index = log_model.exog_names[1:])\n",
    "df_logistic_coef.plot.barh(y = \"Coef\")"
   ]
  }
 ],
 "metadata": {
  "kernelspec": {
   "display_name": "Python 3",
   "language": "python",
   "name": "python3"
  },
  "language_info": {
   "codemirror_mode": {
    "name": "ipython",
    "version": 3
   },
   "file_extension": ".py",
   "mimetype": "text/x-python",
   "name": "python",
   "nbconvert_exporter": "python",
   "pygments_lexer": "ipython3",
   "version": "3.7.10"
  }
 },
 "nbformat": 4,
 "nbformat_minor": 5
}
