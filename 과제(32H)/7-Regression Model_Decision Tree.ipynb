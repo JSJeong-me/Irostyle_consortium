{
 "cells": [
  {
   "cell_type": "code",
   "execution_count": null,
   "id": "affecting-netherlands",
   "metadata": {},
   "outputs": [],
   "source": [
    "import pandas as pd\n",
    "# 데이터 시각화\n",
    "import matplotlib.pyplot as plt\n",
    "import matplotlib\n",
    "# 데이터 분할:train, test\n",
    "from sklearn.model_selection import train_test_split\n",
    "# 회귀 Decision Tree\n",
    "from sklearn.tree import DecisionTreeRegressor\n",
    "# 최적 모델, 파라미터 탐색\n",
    "from sklearn.model_selection import GridSearchCV\n",
    "# 나무구조 시각화\n",
    "from sklearn.tree import plot_tree"
   ]
  },
  {
   "cell_type": "code",
   "execution_count": null,
   "id": "meaningful-utility",
   "metadata": {},
   "outputs": [],
   "source": [
    "# 한글 맑은 고딕 적용\n",
    "matplotlib.rc(\"font\", family = \"Malgun Gothic\")\n",
    "# 음수값 표시\n",
    "matplotlib.rc(\"axes\", unicode_minus = False)"
   ]
  },
  {
   "cell_type": "code",
   "execution_count": null,
   "id": "blocked-meter",
   "metadata": {},
   "outputs": [],
   "source": [
    "# 파일명, 변수, 값 등에 한글 포함시 encoding=“euc-kr\" 지정\n",
    "df_raw = pd.read_csv(\"../data/body.csv\")\n",
    "df_raw.head()\n",
    "# 목표변수, 설명변수 분리\n",
    "df_raw_y = df_raw[\"FAT\"]\n",
    "df_raw_x = df_raw.drop(\"FAT\", axis = 1, inplace = False)\n",
    "# 학습용/평가용 데이터 분리\n",
    "df_train_x, df_test_x, df_train_y, df_test_y = train_test_split(df_raw_x, df_raw_y,\n",
    "test_size = 0.3, random_state = 1234)\n",
    "print(\"학습용 데이터의 X 크기 : {}\".format(df_train_x.shape))\n",
    "print(\"학습용 데이터의 Y 크기 : {}\".format(df_train_y.shape))\n",
    "print(\"평가용 데이터의 X 크기 : {}\".format(df_test_x.shape))\n",
    "print(\"평가용 데이터의 Y 크기 : {}\".format(df_test_y.shape))"
   ]
  },
  {
   "cell_type": "code",
   "execution_count": null,
   "id": "medium-qatar",
   "metadata": {},
   "outputs": [],
   "source": [
    "tree_uncustomized = DecisionTreeRegressor(random_state=1234)\n",
    "tree_uncustomized.fit(df_train_x, df_train_y)\n",
    "# 학습용 데이터 설명력\n",
    "print(\"학습용 데이터의 설명력 : {:.3f}\".format(tree_uncustomized.score(df_train_x, df_train_y)))\n",
    "# test 데이터 설명력\n",
    "print(\"평가용 데이터의 설명력 : {:.3f}\".format(tree_uncustomized.score(df_test_x, df_test_y)))"
   ]
  },
  {
   "cell_type": "code",
   "execution_count": null,
   "id": "agricultural-venue",
   "metadata": {},
   "outputs": [],
   "source": [
    "# 학습용 및 평가용 설명력 결과 저장\n",
    "train_score = []; test_score = [ ]\n",
    "# min_samples_leaf: 잎사귀 최소 자료 수\n",
    "para_leaf = [n_leaf * 1 for n_leaf in range(1, 20)]\n",
    "for v_min_samples_leaf in para_leaf:\n",
    "    tree = DecisionTreeRegressor(random_state=1234, min_samples_leaf=v_min_samples_leaf)\n",
    "    tree.fit(df_train_x, df_train_y)\n",
    "    train_score.append(tree.score(df_train_x, df_train_y))\n",
    "    test_score.append(tree.score(df_test_x, df_test_y))\n",
    "# 결과 저장\n",
    "df_score_leaf = pd.DataFrame()\n",
    "df_score_leaf[\"MinSamplesLeaf\"] = para_leaf\n",
    "df_score_leaf[\"TrainScore\"] = train_score\n",
    "df_score_leaf[\"TestScore\"] = test_score\n",
    "# 모델 설명력 확인\n",
    "df_score_leaf.round(3)"
   ]
  },
  {
   "cell_type": "code",
   "execution_count": null,
   "id": "hourly-watershed",
   "metadata": {},
   "outputs": [],
   "source": [
    "# 모델 설명력 그래프 확인\n",
    "plt.plot(para_leaf, train_score, linestyle = \"-\", label = \"Train Score\")\n",
    "plt.plot(para_leaf, test_score, linestyle = \"--\", label = \"Test Score\")\n",
    "plt.legend()"
   ]
  },
  {
   "cell_type": "code",
   "execution_count": null,
   "id": "sustainable-horizon",
   "metadata": {},
   "outputs": [],
   "source": [
    "# 변수명 저장\n",
    "v_feature_name = df_train_x.columns\n",
    "# 노드의 최소 자료 수=8 모델\n",
    "tree_graph = DecisionTreeRegressor(random_state=1234, min_samples_leaf=8 )\n",
    "tree_graph.fit(df_train_x, df_train_y)\n",
    "plt.figure(figsize = (10, 7))\n",
    "plot_tree(tree_graph, feature_names = v_feature_name, filled = True);"
   ]
  },
  {
   "cell_type": "code",
   "execution_count": null,
   "id": "duplicate-power",
   "metadata": {},
   "outputs": [],
   "source": [
    "# 노드의 최소 자료 수=16 모델\n",
    "tree_graph = DecisionTreeRegressor(random_state=1234, min_samples_leaf=16 )\n",
    "tree_graph.fit(df_train_x, df_train_y)\n",
    "plt.figure(figsize = (10, 7))\n",
    "plot_tree(tree_graph, feature_names = v_feature_name, filled = True);"
   ]
  },
  {
   "cell_type": "code",
   "execution_count": null,
   "id": "front-reality",
   "metadata": {},
   "outputs": [],
   "source": [
    "# 학습용 및 평가용 설명력 결과 저장\n",
    "train_score = []; test_score = []\n",
    "# min_samples_split: 분리 노드의 최소 자료 수\n",
    "para_split = [n_split * 2 for n_split in range(2, 20)]\n",
    "for v_min_samples_split in para_split:\n",
    "    tree = DecisionTreeRegressor(random_state=1234, min_samples_leaf=8, min_samples_split=v_min_samples_split )\n",
    "    tree.fit(df_train_x, df_train_y)\n",
    "    train_score.append(tree.score(df_train_x, df_train_y))\n",
    "    test_score.append(tree.score(df_test_x, df_test_y))\n",
    "# 결과 저장\n",
    "df_score_split = pd.DataFrame()\n",
    "df_score_split[\"MinSamplesSplit\"] = para_split\n",
    "df_score_split[\"TrainScore\"] = train_score\n",
    "df_score_split[\"TestScore\"] = test_score\n",
    "# 모델의 설명력\n",
    "df_score_split.round(3)"
   ]
  },
  {
   "cell_type": "code",
   "execution_count": null,
   "id": "moved-geology",
   "metadata": {},
   "outputs": [],
   "source": [
    "# 학습용 및 평가용 설명력 결과 저장\n",
    "train_score = []; test_score = []\n",
    "# max_depth: 최대 깊이 변경\n",
    "para_depth = [depth for depth in range(1, 11)]\n",
    "for v_max_depth in para_depth:\n",
    "    tree = DecisionTreeRegressor(random_state=1234, min_samples_leaf=8, min_samples_split=20,\n",
    "                                 max_depth = v_max_depth)\n",
    "    tree.fit(df_train_x, df_train_y)\n",
    "    train_score.append(tree.score(df_train_x, df_train_y))\n",
    "    test_score.append(tree.score(df_test_x, df_test_y))\n",
    "# 데이터 테이블로 저장\n",
    "df_score_depth = pd.DataFrame()\n",
    "df_score_depth[\"Depth\"] = para_depth\n",
    "df_score_depth[\"TrainScore\"] = train_score\n",
    "df_score_depth[\"TestScore\"] = test_score\n",
    "# 모델 설명력 확인\n",
    "df_score_depth.round(3)"
   ]
  },
  {
   "cell_type": "code",
   "execution_count": null,
   "id": "transsexual-development",
   "metadata": {},
   "outputs": [],
   "source": [
    "tree_final = DecisionTreeRegressor(min_samples_leaf = 8, min_samples_split = 20, max_depth = 4,random_state=1234)\n",
    "tree_final.fit(df_train_x, df_train_y)"
   ]
  },
  {
   "cell_type": "code",
   "execution_count": null,
   "id": "celtic-webster",
   "metadata": {},
   "outputs": [],
   "source": [
    "plt.figure(figsize = (10, 7))\n",
    "plot_tree(tree_final)\n",
    "plot_tree(tree_final, feature_names = v_feature_name, filled = True);"
   ]
  },
  {
   "cell_type": "code",
   "execution_count": null,
   "id": "civic-slovenia",
   "metadata": {},
   "outputs": [],
   "source": [
    "# tree.feature_importances로 설명변수 중요도 확인 및 테이블로 저장\n",
    "df_importance = pd.DataFrame()\n",
    "df_importance[\"Feature\"] = df_train_x.columns\n",
    "df_importance[\"Importance\"] = tree_final.feature_importances_\n",
    "# df_feature_importance의 테이블을 중요도별로 정렬\n",
    "df_importance.sort_values(\"Importance\", ascending=False, inplace = True)\n",
    "df_importance.round(3)"
   ]
  },
  {
   "cell_type": "code",
   "execution_count": null,
   "id": "seeing-studio",
   "metadata": {},
   "outputs": [],
   "source": [
    "# 설명변수 중요도 그래프\n",
    "df_importance.sort_values(\"Importance\", ascending=True, inplace = True)\n",
    "coordinates = range(len(df_importance))\n",
    "plt.barh(y = coordinates, width = df_importance[\"Importance\"])\n",
    "plt.yticks(coordinates, df_importance[\"Feature\"])\n",
    "plt.xlabel(\"변수 중요도\")\n",
    "plt.ylabel(\"변수\")"
   ]
  },
  {
   "cell_type": "code",
   "execution_count": null,
   "id": "phantom-constraint",
   "metadata": {},
   "outputs": [],
   "source": [
    "estimator = DecisionTreeRegressor()\n",
    "# 구하고자 하는 parameter와 범위\n",
    "param_grid = {\"criterion\": [\"mse\", \"friedman_mse\", \"mae\"], \"max_features\": [\"auto\", \"sqrt\", \"log2\"],\n",
    "              \"max_depth\": para_depth, \"min_samples_split\": para_split,\"min_samples_leaf\": para_leaf}\n",
    "# 설명력이 높은 최적 parameter 찾기\n",
    "grid_dt = GridSearchCV(estimator, param_grid, scoring=\"r2\", n_jobs = -1)\n",
    "grid_dt.fit(df_train_x, df_train_y)\n",
    "print(\"best estimator model: \\n{}\".format(grid_dt.best_estimator_))\n",
    "print(\"\\nbest parameter: \\n{}\".format(grid_dt.best_params_))\n",
    "print(\"\\nbest score: \\n{}\".format(grid_dt.best_score_.round(3)))"
   ]
  }
 ],
 "metadata": {
  "kernelspec": {
   "display_name": "Python 3",
   "language": "python",
   "name": "python3"
  },
  "language_info": {
   "codemirror_mode": {
    "name": "ipython",
    "version": 3
   },
   "file_extension": ".py",
   "mimetype": "text/x-python",
   "name": "python",
   "nbconvert_exporter": "python",
   "pygments_lexer": "ipython3",
   "version": "3.7.10"
  }
 },
 "nbformat": 4,
 "nbformat_minor": 5
}
