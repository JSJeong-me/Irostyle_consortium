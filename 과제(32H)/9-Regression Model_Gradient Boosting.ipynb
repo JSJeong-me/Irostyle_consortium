{
 "cells": [
  {
   "cell_type": "code",
   "execution_count": null,
   "id": "elect-partner",
   "metadata": {},
   "outputs": [],
   "source": [
    "# 데이터 구조\n",
    "import pandas as pd\n",
    "# 데이터 시각화\n",
    "import matplotlib.pyplot as plt\n",
    "import matplotlib\n",
    "# 데이터 분할: train, test\n",
    "from sklearn.model_selection import train_test_split\n",
    "# 예측/회귀 Gradient Boosting\n",
    "from sklearn.ensemble import GradientBoostingRegressor\n",
    "# 최적 모델, 파라미터 탐색\n",
    "from sklearn.model_selection import GridSearchCV\n",
    "# 나무구조 시각화\n",
    "from sklearn.tree import plot_tree"
   ]
  },
  {
   "cell_type": "code",
   "execution_count": null,
   "id": "intellectual-observation",
   "metadata": {},
   "outputs": [],
   "source": [
    "# 한글 맑은 고딕 적용\n",
    "matplotlib.rc(\"font\", family = \"Malgun Gothic\")\n",
    "# 음수값 표시\n",
    "matplotlib.rc(\"axes\", unicode_minus = False)"
   ]
  },
  {
   "cell_type": "code",
   "execution_count": null,
   "id": "different-equality",
   "metadata": {},
   "outputs": [],
   "source": [
    "# 파일명, 변수, 값 등에 한글 포함시 encoding=“euc-kr\" 지정\n",
    "df_raw = pd.read_csv(\"../data/body.csv\")\n",
    "df_raw.head()\n",
    "# 목표변수, 설명변수 분리\n",
    "df_raw_y = df_raw[\"FAT\"]\n",
    "df_raw_x = df_raw.drop(\"FAT\", axis = 1, inplace = False)\n",
    "# 학습용/평가용 데이터 분리\n",
    "df_train_x, df_test_x, df_train_y, df_test_y = train_test_split(df_raw_x, df_raw_y,\n",
    "test_size = 0.3, random_state = 1234)\n",
    "print(\"학습용 데이터의 X 크기 : {}\".format(df_train_x.shape))\n",
    "print(\"학습용 데이터의 Y 크기 : {}\".format(df_train_y.shape))\n",
    "print(\"평가용 데이터의 X 크기 : {}\".format(df_test_x.shape))\n",
    "print(\"평가용 데이터의 Y 크기 : {}\".format(df_test_y.shape))"
   ]
  },
  {
   "cell_type": "code",
   "execution_count": null,
   "id": "fancy-radio",
   "metadata": {},
   "outputs": [],
   "source": [
    "# 모델 생성: GradientBoostingRegressor\n",
    "gb_uncustomized = GradientBoostingRegressor(random_state=1234)\n",
    "gb_uncustomized.fit(df_train_x, df_train_y)\n",
    "# 학습용 데이터 설명력\n",
    "print(\"학습용 데이터의 설명력 : {:.3f}\".format(gb_uncustomized.score (df_train_x, df_train_y)))\n",
    "# 평가용 데이터 설명력\n",
    "print(\"평가용 데이터의 설명력 : {:.3f}\".format(gb_uncustomized.score (df_test_x, df_test_y)))"
   ]
  },
  {
   "cell_type": "code",
   "execution_count": null,
   "id": "mature-cause",
   "metadata": {},
   "outputs": [],
   "source": [
    "estimator = GradientBoostingRegressor(random_state=1234)\n",
    "param_grid = {\"criterion\": [\"mse\"], \"max_features\": [\"auto\"], \"learning_rate\": [0.1, 0.2],\n",
    "\"n_estimators\": [100, 150, 200], \"max_depth\": [4, 5], \"min_samples_leaf\": [3, 4, 5, 6]}\n",
    "grid_gb = GridSearchCV(estimator, param_grid, scoring=\"r2\", n_jobs = -1)\n",
    "grid_gb.fit(df_train_x, df_train_y)\n",
    "print(\"best estimator model: \\n{}\".format(grid_gb.best_estimator_))\n",
    "print(\"\\nbest parameter: \\n{}\".format(grid_gb.best_params_))\n",
    "print(\"\\nbest score: \\n{}\".format(grid_gb.best_score_.round(3)))"
   ]
  },
  {
   "cell_type": "code",
   "execution_count": null,
   "id": "quiet-haiti",
   "metadata": {},
   "outputs": [],
   "source": [
    "gb_final = GradientBoostingRegressor(learning_rate = 0.1, n_estimators = 100, max_depth = 4,\n",
    "min_samples_leaf = 6, random_state=1234)\n",
    "gb_final.fit(df_train_x, df_train_y)\n",
    "# 학습용 데이터 설명력\n",
    "print(\"학습용 데이터의 설명력: {:.3f}\".format(gb_final.score(df_train_x, df_train_y)))\n",
    "# 평가용 데이터 설명력\n",
    "print(\"평가용 데이터의 설명력: {:.3f}\".format(gb_final.score(df_test_x, df_test_y)))"
   ]
  },
  {
   "cell_type": "code",
   "execution_count": null,
   "id": "future-ballot",
   "metadata": {},
   "outputs": [],
   "source": [
    "# tree.feature_importances_로 설명변수 중요도 확인 및 테이블로 저장\n",
    "df_importance = pd.DataFrame()\n",
    "df_importance[\"Feature\"] = df_train_x.columns\n",
    "df_importance[\"Importance\"] = gb_final.feature_importances_\n",
    "# df_feature_importance의 테이블을 중요도 순으로 정렬\n",
    "df_importance.sort_values(\"Importance\", ascending=False, inplace = True)\n",
    "df_importance.round(3)"
   ]
  }
 ],
 "metadata": {
  "kernelspec": {
   "display_name": "Python 3",
   "language": "python",
   "name": "python3"
  },
  "language_info": {
   "codemirror_mode": {
    "name": "ipython",
    "version": 3
   },
   "file_extension": ".py",
   "mimetype": "text/x-python",
   "name": "python",
   "nbconvert_exporter": "python",
   "pygments_lexer": "ipython3",
   "version": "3.7.10"
  }
 },
 "nbformat": 4,
 "nbformat_minor": 5
}
