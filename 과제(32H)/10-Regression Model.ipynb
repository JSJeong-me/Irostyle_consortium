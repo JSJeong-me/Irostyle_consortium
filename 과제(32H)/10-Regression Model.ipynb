{
 "cells": [
  {
   "cell_type": "code",
   "execution_count": null,
   "id": "metropolitan-chassis",
   "metadata": {},
   "outputs": [],
   "source": [
    "# 데이터 구조\n",
    "import pandas as pd\n",
    "import numpy as np\n",
    "# 데이터 시각화\n",
    "import matplotlib.pyplot as plt\n",
    "import matplotlib\n",
    "# 데이터 분할 : train, test\n",
    "from sklearn.model_selection import train_test_split\n",
    "# 회귀분석\n",
    "import statsmodels.formula.api as smf\n",
    "# Decision Tree\n",
    "from sklearn.tree import DecisionTreeRegressor\n",
    "# Random Forest\n",
    "from sklearn.ensemble import RandomForestRegressor\n",
    "# Gradient Boosting\n",
    "from sklearn.ensemble import GradientBoostingRegressor\n",
    "# 평가 함수\n",
    "from sklearn.metrics import mean_squared_error\n",
    "from sklearn.metrics import mean_absolute_error"
   ]
  },
  {
   "cell_type": "code",
   "execution_count": null,
   "id": "aggressive-discussion",
   "metadata": {},
   "outputs": [],
   "source": [
    "# 한글 맑은 고딕 적용\n",
    "matplotlib.rc(\"font\", family = \"Malgun Gothic\")\n",
    "# 음수값 표시\n",
    "matplotlib.rc(\"axes\", unicode_minus = False)"
   ]
  },
  {
   "cell_type": "code",
   "execution_count": null,
   "id": "upset-flesh",
   "metadata": {},
   "outputs": [],
   "source": [
    "# RMSE: root mean squared error 함수\n",
    "def root_mean_squared_error(y_true, y_pred):\n",
    "    return np.sqrt(mean_squared_error(y_true, y_pred))\n",
    "# MAPE: mean absolute percentage error 함수\n",
    "def mean_absolute_percentage_error(y_true, y_pred):\n",
    "    return np.mean(np.abs((y_true - y_pred) / y_true)) * 100"
   ]
  },
  {
   "cell_type": "code",
   "execution_count": null,
   "id": "numeric-talent",
   "metadata": {},
   "outputs": [],
   "source": [
    "# 파일명, 변수, 값 등에 한글 포함시 encoding=“euc-kr\" 지정\n",
    "df_raw = pd.read_csv(\"../data/body.csv\")\n",
    "df_raw.head()\n",
    "# 목표변수, 설명변수 분리\n",
    "df_raw_y = df_raw[\"FAT\"]\n",
    "df_raw_x = df_raw.drop(\"FAT\", axis = 1, inplace = False)\n",
    "# 학습용/평가용 데이터 분리\n",
    "df_train, df_test = train_test_split(df_raw, test_size = 0.3, random_state = 1234)\n",
    "df_train_x, df_test_x, df_train_y, df_test_y = train_test_split(df_raw_x, df_raw_y\n",
    ", test_size = 0.3, random_state = 1234)\n",
    "print(\"학습용 데이터 : {}\".format(df_train.shape))\n",
    "print(\"평가용 데이터 : {}\".format(df_test.shape))\n",
    "print(\"학습용 X 데이터 : {}\".format(df_train_x.shape))\n",
    "print(\"학습용 Y 데이터 : {}\".format(df_train_y.shape))\n",
    "print(\"평가용 X 데이터 : {}\".format(df_test_x.shape))\n",
    "print(\"평가용 Y 데이터 : {}\".format(df_test_y.shape))"
   ]
  },
  {
   "cell_type": "code",
   "execution_count": null,
   "id": "suspected-johns",
   "metadata": {},
   "outputs": [],
   "source": [
    "# 회귀 모델\n",
    "lr_model = smf.ols(formula = \"FAT ~ WEIGHT + ABDOMEN + FOREARM + WRIST\", data = df_train)\n",
    "lr_result = lr_model.fit()\n",
    "# Decision Tree\n",
    "dt_model = DecisionTreeRegressor(min_samples_leaf = 8, min_samples_split = 20, max_depth = 4,\n",
    "random_state=1234)\n",
    "dt_model.fit(df_train_x, df_train_y)\n",
    "# Random Forest\n",
    "rf_model = RandomForestRegressor(n_estimators = 100, max_depth = 8, min_samples_leaf = 4,\n",
    "min_samples_split = 2, random_state=1234)\n",
    "rf_model.fit(df_train_x, df_train_y)\n",
    "# Gradient Boosting\n",
    "gb_model = GradientBoostingRegressor(learning_rate = 0.1, n_estimators = 100, max_depth = 4,\n",
    "min_samples_leaf = 6, random_state=1234)\n",
    "gb_model.fit(df_train_x, df_train_y)"
   ]
  },
  {
   "cell_type": "code",
   "execution_count": null,
   "id": "invalid-rally",
   "metadata": {},
   "outputs": [],
   "source": [
    "# 모델 리스트, 그래프를 그리기 생성 목적\n",
    "models = [\"회귀분석\", \"의사결정나무\", \"랜덤 포레스트\", \"그래디언트 부스팅\"]\n",
    "# 평가 리스트 초기화\n",
    "mse, rmse, mae, mape = [],[],[],[]"
   ]
  },
  {
   "cell_type": "code",
   "execution_count": null,
   "id": "responsible-meeting",
   "metadata": {},
   "outputs": [],
   "source": [
    "# 예측\n",
    "lr_y_pred = lr_result.predict(df_test)\n",
    "# 평가\n",
    "mse.append(mean_squared_error(df_test_y, lr_y_pred))\n",
    "rmse.append(root_mean_squared_error(df_test_y, lr_y_pred))\n",
    "mae.append(mean_absolute_error(df_test_y, lr_y_pred))\n",
    "mape.append(mean_absolute_percentage_error(df_test_y, lr_y_pred))"
   ]
  },
  {
   "cell_type": "code",
   "execution_count": null,
   "id": "desperate-swiss",
   "metadata": {},
   "outputs": [],
   "source": [
    "# 예측\n",
    "dt_y_pred = dt_model.predict(df_test_x)\n",
    "# 평가\n",
    "mse.append(mean_squared_error(df_test_y, dt_y_pred))\n",
    "rmse.append(root_mean_squared_error(df_test_y, dt_y_pred))\n",
    "mae.append(mean_absolute_error(df_test_y, dt_y_pred))\n",
    "mape.append(mean_absolute_percentage_error(df_test_y, dt_y_pred))"
   ]
  },
  {
   "cell_type": "code",
   "execution_count": null,
   "id": "occupied-liquid",
   "metadata": {},
   "outputs": [],
   "source": [
    "# 예측\n",
    "rf_y_pred = rf_model.predict(df_test_x)\n",
    "# 평가\n",
    "mse.append(mean_squared_error(df_test_y, rf_y_pred))\n",
    "rmse.append(root_mean_squared_error(df_test_y, rf_y_pred))\n",
    "mae.append(mean_absolute_error(df_test_y, rf_y_pred))\n",
    "mape.append(mean_absolute_percentage_error(df_test_y, rf_y_pred))"
   ]
  },
  {
   "cell_type": "code",
   "execution_count": null,
   "id": "pressing-volume",
   "metadata": {},
   "outputs": [],
   "source": [
    "# 예측\n",
    "gb_y_pred = gb_model.predict(df_test_x)\n",
    "# 평가\n",
    "mse.append(mean_squared_error(df_test_y, gb_y_pred))\n",
    "rmse.append(root_mean_squared_error(df_test_y, gb_y_pred))\n",
    "mae.append(mean_absolute_error(df_test_y, gb_y_pred))\n",
    "mape.append(mean_absolute_percentage_error(df_test_y, gb_y_pred))"
   ]
  },
  {
   "cell_type": "code",
   "execution_count": null,
   "id": "organic-adapter",
   "metadata": {},
   "outputs": [],
   "source": [
    "fig, ax = plt.subplots(2,2, figsize = (13,10))\n",
    "ax[0, 0].bar(models, mse)\n",
    "ax[0, 0].set_title(\"mse\").set_fontsize(15)\n",
    "ax[0, 1].bar(models, rmse)\n",
    "ax[0, 1].set_title(\"rmse\").set_fontsize(15)\n",
    "ax[1, 0].bar(models, mae)\n",
    "357\n",
    "ax[1, 0].set_title(\"mae\").set_fontsize(15)\n",
    "ax[1, 1].bar(models, mape)\n",
    "ax[1, 1].set_title(\"mape\").set_fontsize(15)"
   ]
  }
 ],
 "metadata": {
  "kernelspec": {
   "display_name": "Python 3",
   "language": "python",
   "name": "python3"
  },
  "language_info": {
   "codemirror_mode": {
    "name": "ipython",
    "version": 3
   },
   "file_extension": ".py",
   "mimetype": "text/x-python",
   "name": "python",
   "nbconvert_exporter": "python",
   "pygments_lexer": "ipython3",
   "version": "3.7.10"
  }
 },
 "nbformat": 4,
 "nbformat_minor": 5
}
