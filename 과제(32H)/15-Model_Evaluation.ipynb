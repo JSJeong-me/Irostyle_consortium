{
 "cells": [
  {
   "cell_type": "code",
   "execution_count": null,
   "id": "gross-johnson",
   "metadata": {},
   "outputs": [],
   "source": [
    "# 데이터 구조\n",
    "import pandas as pd\n",
    "# 데이터 시각화\n",
    "import matplotlib.pyplot as plt\n",
    "import matplotlib\n",
    "# 의사결정나무\n",
    "from sklearn.tree import DecisionTreeClassifier\n",
    "from sklearn.model_selection import train_test_split\n",
    "# Random Forest\n",
    "from sklearn.ensemble import RandomForestClassifier\n",
    "# Gradient Boosting\n",
    "from xgboost import XGBClassifier\n",
    "# xgboost\n",
    "from sklearn.ensemble import GradientBoostingClassifier\n",
    "# 모델 성능 평가 : F1 Score, ROC Curve, AUC\n",
    "from sklearn.metrics import f1_score, roc_curve, roc_auc_score"
   ]
  },
  {
   "cell_type": "code",
   "execution_count": null,
   "id": "fitted-selection",
   "metadata": {},
   "outputs": [],
   "source": [
    "df_raw = pd.read_csv(\"../data/bank.csv\")\n",
    "df_raw.head()"
   ]
  },
  {
   "cell_type": "code",
   "execution_count": null,
   "id": "sapphire-nightmare",
   "metadata": {},
   "outputs": [],
   "source": [
    "# 결측치 확인\n",
    "df_raw.isnull().sum()\n",
    "# JOB 변수의 결측치는 \"Other\"로 대체\n",
    "df_raw[\"JOB\"].fillna(\"Other\", inplace = True)\n",
    "# 숫자형 변수의 결측치는 해당 변수의 평균값으로 대체\n",
    "df_raw.fillna(df_raw.mean(), inplace=True)"
   ]
  },
  {
   "cell_type": "code",
   "execution_count": null,
   "id": "conceptual-express",
   "metadata": {},
   "outputs": [],
   "source": [
    "# get_dummies : 데이터의 문자형 변수에 대한 더미변수 생성\n",
    "df_raw_dummy = pd.get_dummies(df_raw)\n",
    "# 더미변수 생성된 데이터의 상위 5개 row를 확인\n",
    "df_raw_dummy.head()"
   ]
  },
  {
   "cell_type": "code",
   "execution_count": null,
   "id": "contained-bench",
   "metadata": {},
   "outputs": [],
   "source": [
    "# 설명변수, 목표변수 분리\n",
    "df_raw_x = df_raw_dummy.drop(\"BAD\", axis = 1, inplace = False)\n",
    "df_raw_y = df_raw_dummy[\"BAD\"]"
   ]
  },
  {
   "cell_type": "code",
   "execution_count": null,
   "id": "wicked-vienna",
   "metadata": {},
   "outputs": [],
   "source": [
    "df_train_x, df_test_x, df_train_y, df_test_y = train_test_split(df_raw_x, df_raw_y, test_size = 0.3, random_state = 1234)\n",
    "print(\"학습용 데이터의 X 크기 : {}\".format(df_train_x.shape))\n",
    "print(\"학습용 데이터의 Y 크기 : {}\".format(df_train_y.shape))\n",
    "print(\"평가용 데이터의 X 크기 : {}\".format(df_test_x.shape))\n",
    "print(\"평가용 데이터의 Y 크기 : {}\".format(df_test_y.shape))"
   ]
  },
  {
   "cell_type": "code",
   "execution_count": null,
   "id": "australian-composer",
   "metadata": {},
   "outputs": [],
   "source": [
    "# 분석 모델\n",
    "model = [\"DecisionTree\", \"RandomForest\", \"GradientBoosting\", \"XGBoost\"]\n",
    "# 정확도 저장\n",
    "train_accuracy = []; test_accuracy = []\n",
    "# f1 score 저장\n",
    "model_f1_score = []\n",
    "# auc score 저장\n",
    "model_auc = []"
   ]
  },
  {
   "cell_type": "code",
   "execution_count": null,
   "id": "russian-yahoo",
   "metadata": {},
   "outputs": [],
   "source": [
    "# 모델 생성\n",
    "dt_model = DecisionTreeClassifier(max_depth = 4, min_samples_leaf = 30)\n",
    "dt_model.fit(df_train_x, df_train_y)\n",
    "# train 정확도\n",
    "train_accuracy.append(dt_model.score(df_train_x, df_train_y))\n",
    "# test 정확도\n",
    "test_accuracy.append(dt_model.score(df_test_x, df_test_y))\n",
    "# 예측값\n",
    "y_pred = dt_model.predict(df_test_x)\n",
    "# roc_auc 계산\n",
    "roc_auc = roc_auc_score(df_test_y, y_pred)\n",
    "# auc 저장\n",
    "model_auc.append(roc_auc)\n",
    "# f1 스코어\n",
    "model_f1_score.append(f1_score(df_test_y, y_pred))"
   ]
  },
  {
   "cell_type": "code",
   "execution_count": null,
   "id": "interior-surveillance",
   "metadata": {},
   "outputs": [],
   "source": [
    "# 모델 생성\n",
    "rf_model = RandomForestClassifier(min_samples_leaf = 1, max_depth = 8, n_estimators = 100,\n",
    "random_state=1234)\n",
    "rf_model.fit(df_train_x, df_train_y)\n",
    "# train 정확도\n",
    "train_accuracy.append(rf_model.score(df_train_x, df_train_y))\n",
    "# test 정확도\n",
    "test_accuracy.append(rf_model.score(df_test_x, df_test_y))\n",
    "# 예측값\n",
    "y_pred = rf_model.predict(df_test_x)\n",
    "# roc_auc 계산\n",
    "roc_auc = roc_auc_score(df_test_y, y_pred)\n",
    "# auc 저장\n",
    "model_auc.append(roc_auc)\n",
    "# f1 스코어\n",
    "model_f1_score.append(f1_score(df_test_y, y_pred))"
   ]
  },
  {
   "cell_type": "code",
   "execution_count": null,
   "id": "moral-armor",
   "metadata": {},
   "outputs": [],
   "source": [
    "# 모델 생성\n",
    "gb_final = GradientBoostingClassifier(min_samples_leaf = 5, max_depth = 6, n_estimators = 200,\n",
    "learning_rate = 0.3, random_state=1234)\n",
    "gb_final.fit(df_train_x, df_train_y)\n",
    "# train 정확도\n",
    "train_accuracy.append(gb_final.score(df_train_x, df_train_y))\n",
    "# test 정확도\n",
    "test_accuracy.append(gb_final.score(df_test_x, df_test_y))\n",
    "# 예측값\n",
    "y_pred = gb_final.predict(df_test_x)\n",
    "# roc_auc 계산\n",
    "roc_auc = roc_auc_score(df_test_y, y_pred)\n",
    "# auc 저장\n",
    "model_auc.append(roc_auc)\n",
    "# f1 스코어\n",
    "model_f1_score.append(f1_score(df_test_y, y_pred))"
   ]
  },
  {
   "cell_type": "code",
   "execution_count": null,
   "id": "structured-accident",
   "metadata": {},
   "outputs": [],
   "source": [
    "# 모델 생성\n",
    "xgb_final = XGBClassifier(learning_rate = 0.3, booster = 'gbtree', max_depth = 5,\n",
    "n_estimators = 150, gamma = 0, objective = 'binary:logistic', random_state=1234)\n",
    "xgb_final.fit(df_train_x, df_train_y)\n",
    "# train 정확도\n",
    "train_accuracy.append(xgb_final.score(df_train_x, df_train_y))\n",
    "# test 정확도\n",
    "test_accuracy.append(xgb_final.score(df_test_x, df_test_y))\n",
    "# 예측값\n",
    "y_pred = xgb_final.predict(df_test_x)\n",
    "# roc_auc 계산\n",
    "roc_auc = roc_auc_score(df_test_y, y_pred)\n",
    "# auc 저장\n",
    "model_auc.append(roc_auc)\n",
    "# f1 스코어\n",
    "model_f1_score.append(f1_score(df_test_y, y_pred))"
   ]
  },
  {
   "cell_type": "code",
   "execution_count": null,
   "id": "verbal-barbados",
   "metadata": {},
   "outputs": [],
   "source": [
    "# 모델별 정확도 표\n",
    "df_eval = pd.DataFrame(index = model)\n",
    "df_eval[\"TrainAccuracy\"] = train_accuracy\n",
    "df_eval[\"TestAccuracy\"] = test_accuracy\n",
    "df_eval[\"F1Score\"] = model_f1_score\n",
    "df_eval[\"AUC\"] = model_auc\n",
    "df_eval.round(3)"
   ]
  },
  {
   "cell_type": "code",
   "execution_count": null,
   "id": "dress-ethernet",
   "metadata": {},
   "outputs": [],
   "source": [
    "# 정확도 bar plot 생성\n",
    "df_eval.plot.bar(rot = 0)\n",
    "plt.legend(loc=\"lower right\")\n",
    "plt.grid(axis = \"y\")"
   ]
  }
 ],
 "metadata": {
  "kernelspec": {
   "display_name": "Python 3",
   "language": "python",
   "name": "python3"
  },
  "language_info": {
   "codemirror_mode": {
    "name": "ipython",
    "version": 3
   },
   "file_extension": ".py",
   "mimetype": "text/x-python",
   "name": "python",
   "nbconvert_exporter": "python",
   "pygments_lexer": "ipython3",
   "version": "3.7.10"
  }
 },
 "nbformat": 4,
 "nbformat_minor": 5
}
