{
 "cells": [
  {
   "cell_type": "code",
   "execution_count": null,
   "id": "hawaiian-receipt",
   "metadata": {},
   "outputs": [],
   "source": [
    "# 데이터 구조\n",
    "import pandas as pd\n",
    "# 데이터 시각화\n",
    "import matplotlib.pyplot as plt\n",
    "import matplotlib\n",
    "# 나무 구조 시각화\n",
    "from sklearn.tree import plot_tree\n",
    "# 데이터 분할:train, test\n",
    "from sklearn.model_selection import train_test_split\n",
    "# Random Forest\n",
    "from sklearn.ensemble import RandomForestClassifier\n",
    "# 최적 모델, 파라미터 탐색\n",
    "from sklearn.model_selection import GridSearchCV\n",
    "# 모델 성능 평가\n",
    "from sklearn.metrics import confusion_matrix\n",
    "from sklearn.metrics import classification_report"
   ]
  },
  {
   "cell_type": "code",
   "execution_count": null,
   "id": "offshore-sucking",
   "metadata": {},
   "outputs": [],
   "source": [
    "# 한글 폰트 설정\n",
    "matplotlib.rc(\"font\", family = \"Malgun Gothic\")\n",
    "# 음수 표시 설정\n",
    "matplotlib.rc(\"axes\", unicode_minus = False)"
   ]
  },
  {
   "cell_type": "code",
   "execution_count": null,
   "id": "identical-rogers",
   "metadata": {},
   "outputs": [],
   "source": [
    "# 데이터 불러오기\n",
    "df_raw = pd.read_csv(\"../data/bank.csv\")\n",
    "df_raw.head()"
   ]
  },
  {
   "cell_type": "code",
   "execution_count": null,
   "id": "geological-familiar",
   "metadata": {},
   "outputs": [],
   "source": [
    "# 결측치 확인\n",
    "df_raw.isnull().sum(axis = 0)\n",
    "# JOB 변수의 결측치는 \"Other\"로 대체\n",
    "df_raw[\"JOB\"].fillna(\"Other\", inplace = True)\n",
    "# 숫자형 변수의 결측치는 해당 변수의 평균값으로 대체\n",
    "df_raw.fillna(df_raw.mean(), inplace=True)"
   ]
  },
  {
   "cell_type": "code",
   "execution_count": null,
   "id": "velvet-typing",
   "metadata": {},
   "outputs": [],
   "source": [
    "# get_dummies: 데이터의 문자형 변수에 대한 더미변수 생성\n",
    "df_raw_dummy = pd.get_dummies(df_raw)\n",
    "# 더미변수 생성된 데이터의 상위 5개 row를 확인\n",
    "df_raw_dummy.head()"
   ]
  },
  {
   "cell_type": "code",
   "execution_count": null,
   "id": "familiar-johnston",
   "metadata": {},
   "outputs": [],
   "source": [
    "# 학습용/평가용 데이터 분리\n",
    "df_train, df_test = train_test_split(df_raw_dummy, test_size = 0.3, random_state = 1234)\n",
    "print(\"학습용 데이터의 크기 : {}\".format(df_train.shape))\n",
    "print(\"평가용 데이터의 크기 : {}\".format(df_test.shape))"
   ]
  },
  {
   "cell_type": "code",
   "execution_count": null,
   "id": "committed-radar",
   "metadata": {},
   "outputs": [],
   "source": [
    "# 설명변수와 목표변수를 분리\n",
    "df_train_y = df_train[\"BAD\"]\n",
    "df_train_x = df_train.drop(\"BAD\", axis = 1, inplace = False)\n",
    "df_test_y = df_test[\"BAD\"]\n",
    "df_test_x = df_test.drop(\"BAD\", axis = 1, inplace = False)"
   ]
  },
  {
   "cell_type": "code",
   "execution_count": null,
   "id": "piano-justice",
   "metadata": {},
   "outputs": [],
   "source": [
    "# 랜덤 포레스트 모델 생성\n",
    "rf_uncustomized = RandomForestClassifier(random_state=1234)\n",
    "rf_uncustomized.fit(df_train_x, df_train_y)\n",
    "# 학습용 데이터 셋 정확도\n",
    "print(\"학습용 데이터의 정확도 : {:.3f}\".format(rf_uncustomized.score(df_train_x, df_train_y)))\n",
    "# 평가용 데이터 셋 정확도\n",
    "print(\"평가용 데이터의 정확도 : {:.3f}\".format(rf_uncustomized.score(df_test_x, df_test_y)))"
   ]
  },
  {
   "cell_type": "code",
   "execution_count": null,
   "id": "appointed-craps",
   "metadata": {},
   "outputs": [],
   "source": [
    "# error 저장 리스트\n",
    "oob_error = []\n",
    "for v_n_estimator in range(1, 151):\n",
    "    rf = RandomForestClassifier(n_estimators = v_n_estimator, oob_score = True, random_state= 1234)\n",
    "    rf.fit(df_train_x, df_train_y)\n",
    "    oob_error.append(1 - rf.oob_score_)"
   ]
  },
  {
   "cell_type": "code",
   "execution_count": null,
   "id": "failing-sweden",
   "metadata": {},
   "outputs": [],
   "source": [
    "# 그래프로 표현\n",
    "plt.plot(range(1, 151), oob_error)\n",
    "plt.ylabel(\"oob error\")\n",
    "plt.xlabel(\"n_estimators\")\n",
    "# 트리 수 지정\n",
    "n_estimators = 100"
   ]
  },
  {
   "cell_type": "code",
   "execution_count": null,
   "id": "acknowledged-paradise",
   "metadata": {},
   "outputs": [],
   "source": [
    "estimator = RandomForestClassifier(random_state=1234)\n",
    "# 구하고자 하는 parameter와 범위\n",
    "param_grid = {\"n_estimators\": [100, 150, 200], \"max_depth\": [4, 5, 6, 7, 8],\n",
    "\"min_samples_leaf\": [1, 2, 3, 4, 5]}\n",
    "# 정확도가 높은 최적 parameter 찾기\n",
    "grid_rf = GridSearchCV(estimator, param_grid, scoring=\"accuracy\", n_jobs = -1)\n",
    "grid_rf.fit(df_train_x, df_train_y)\n",
    "print(\"best estimator model: \\n{}\".format(grid_rf.best_estimator_))\n",
    "print(\"\\nbest parameter: \\n{}\".format(grid_rf.best_params_))\n",
    "print(\"\\nbest score: \\n{}\".format(grid_rf.best_score_.round(3)))"
   ]
  },
  {
   "cell_type": "code",
   "execution_count": null,
   "id": "informative-syndication",
   "metadata": {},
   "outputs": [],
   "source": [
    "# 최종 모델\n",
    "rf_final = RandomForestClassifier(min_samples_leaf = 1, max_depth = 8, n_estimators = 100,\n",
    "random_state=1234)\n",
    "rf_final.fit(df_train_x, df_train_y)\n",
    "# 평가\n",
    "y_pred = rf_final.predict(df_test_x)\n",
    "# 학습용 데이터 셋 정확도\n",
    "print(\"학습용 데이터의 정확도 : {:.3f}\".format(rf_final.score(df_train_x, df_train_y)))\n",
    "# 평가용 데이터 셋 정확도\n",
    "print(\"평가용 데이터의 정확도 : {:.3f}\".format(rf_final.score(df_test_x, df_test_y)))\n",
    "# confusion matrix\n",
    "print(\"Confusion matrix: \\n{}\".format(confusion_matrix(df_test_y, y_pred)))"
   ]
  },
  {
   "cell_type": "code",
   "execution_count": null,
   "id": "seventh-service",
   "metadata": {},
   "outputs": [],
   "source": [
    "# classification Report\n",
    "print(\"Classification Report : \", classification_report(df_test_y, y_pred))"
   ]
  },
  {
   "cell_type": "code",
   "execution_count": null,
   "id": "quality-celebrity",
   "metadata": {},
   "outputs": [],
   "source": [
    "# tree.feature_importances_로 설명변수 중요도 확인 및 테이블로 저장\n",
    "df_importance = pd.DataFrame()\n",
    "df_importance [\"Feature\"] = df_train_x.columns\n",
    "df_importance [\"Importance\"] = rf_final.feature_importances_\n",
    "# df_feature_importance의 테이블을 중요도 순으로 정렬\n",
    "df_importance .sort_values(\"Importance\", ascending=False, inplace = True)\n",
    "df_importance .round(3)"
   ]
  },
  {
   "cell_type": "code",
   "execution_count": null,
   "id": "revised-montgomery",
   "metadata": {},
   "outputs": [],
   "source": [
    "# 설명변수 중요도 그래프\n",
    "df_importance .sort_values(\"Importance\", ascending=True, inplace = True)\n",
    "coordinates = range(len(df_importance ))\n",
    "plt.barh(y = coordinates, width = df_importance [\"Importance\"])\n",
    "plt.yticks(coordinates, df_importance [\"Feature\"])\n",
    "plt.xlabel(\"설명변수 중요도\")\n",
    "plt.ylabel(\"설명변수\")"
   ]
  }
 ],
 "metadata": {
  "kernelspec": {
   "display_name": "Python 3",
   "language": "python",
   "name": "python3"
  },
  "language_info": {
   "codemirror_mode": {
    "name": "ipython",
    "version": 3
   },
   "file_extension": ".py",
   "mimetype": "text/x-python",
   "name": "python",
   "nbconvert_exporter": "python",
   "pygments_lexer": "ipython3",
   "version": "3.7.10"
  }
 },
 "nbformat": 4,
 "nbformat_minor": 5
}
