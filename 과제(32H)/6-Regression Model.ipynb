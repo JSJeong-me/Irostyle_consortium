{
 "cells": [
  {
   "cell_type": "code",
   "execution_count": null,
   "id": "competent-university",
   "metadata": {},
   "outputs": [],
   "source": [
    "# 데이터 구조\n",
    "import pandas as pd\n",
    "# 행렬 연산\n",
    "import numpy as np\n",
    "# 데이터 시각화\n",
    "import matplotlib.pyplot as plt\n",
    "import matplotlib\n",
    "import seaborn as sns\n",
    "# 데이터 분할:train, test\n",
    "from sklearn.model_selection import train_test_split\n",
    "# 회귀분석\n",
    "from statsmodels.formula.api import ols\n",
    "# qqplot, 회귀분석의 상수항 추가\n",
    "from statsmodels.api import qqplot, add_constant\n",
    "# 선형 모델 formula(y ~ X1 + X2 + ...)\n",
    "import statsmodels.formula.api as smf\n",
    "# 평가함수\n",
    "from statsmodels.tools.eval_measures import rmse\n",
    "# 결정계수 평가지표\n",
    "from sklearn.metrics import r2_score\n",
    "# 다중공선성 확인\n",
    "from statsmodels.stats.outliers_influence import variance_inflation_factor"
   ]
  },
  {
   "cell_type": "code",
   "execution_count": null,
   "id": "artificial-inclusion",
   "metadata": {},
   "outputs": [],
   "source": [
    "# 한글 맑은 고딕 적용\n",
    "matplotlib.rc(\"font\", family = \"Malgun Gothic\")\n",
    "# 음수값 표시\n",
    "matplotlib.rc(\"axes\", unicode_minus = False)"
   ]
  },
  {
   "cell_type": "code",
   "execution_count": null,
   "id": "perfect-division",
   "metadata": {},
   "outputs": [],
   "source": [
    "# 파일명, 변수, 값 등에 한글 포함시 engine=\"python\" 지정\n",
    "df_raw = pd.read_csv(\"../data/body.csv\")\n",
    "df_raw.head()"
   ]
  },
  {
   "cell_type": "code",
   "execution_count": null,
   "id": "classical-slide",
   "metadata": {},
   "outputs": [],
   "source": [
    "# 산점도 행렬\n",
    "sns.pairplot(df_raw, y_vars=\"FAT\", x_vars=[\"WEIGHT\", \"NECK\", \"CHEST\", \"ABDOMEN\"])\n",
    "# 회귀 적합선 추가 : kind =\"reg\"\n",
    "sns.pairplot(df_raw, y_vars=\"FAT\", x_vars=[\"WEIGHT\", \"NECK\", \"CHEST\", \"ABDOMEN\"], kind=\"reg\")"
   ]
  },
  {
   "cell_type": "code",
   "execution_count": null,
   "id": "optimum-indian",
   "metadata": {},
   "outputs": [],
   "source": [
    "# 산점도 행렬\n",
    "sns.pairplot(df_raw)"
   ]
  },
  {
   "cell_type": "code",
   "execution_count": null,
   "id": "lesbian-invitation",
   "metadata": {
    "scrolled": false
   },
   "outputs": [],
   "source": [
    "# 상관관계 분석\n",
    "df_raw.corr().round(3)"
   ]
  },
  {
   "cell_type": "code",
   "execution_count": null,
   "id": "defined-disaster",
   "metadata": {},
   "outputs": [],
   "source": [
    "# 학습용/평가용 데이터 분리\n",
    "df_train, df_test = train_test_split(df_raw, test_size = 0.3, random_state = 1234)\n",
    "print(\"학습용 데이터 크기 : {}\".format(df_train.shape))\n",
    "print(\"평가용 데이터 크기 : {}\".format(df_test.shape))"
   ]
  },
  {
   "cell_type": "code",
   "execution_count": null,
   "id": "nuclear-sunset",
   "metadata": {},
   "outputs": [],
   "source": [
    "# 선형 회귀 분석\n",
    "reg_model = smf.ols(formula = \"FAT ~ AGE + WEIGHT + HEIGHT + NECK + CHEST + ABDOMEN + HIP + THIGH + KNEE + ANKLE + BICEPS + FOREARM + WRIST\", data = df_train)\n",
    "# 적합\n",
    "reg_result = reg_model.fit()\n",
    "print(reg_result.summary())"
   ]
  },
  {
   "cell_type": "code",
   "execution_count": null,
   "id": "micro-struggle",
   "metadata": {},
   "outputs": [],
   "source": [
    "# 선형 회귀 분석(유의하지 않은 변수 제거)\n",
    "reg_model = smf.ols(formula = \"FAT ~ WEIGHT + ABDOMEN + FOREARM + WRIST\", data = df_train)\n",
    "# 적합\n",
    "reg_result = reg_model.fit()\n",
    "print(reg_result.summary())"
   ]
  },
  {
   "cell_type": "code",
   "execution_count": null,
   "id": "ready-milan",
   "metadata": {},
   "outputs": [],
   "source": [
    "# 설명변수 간의 다중공선성 확인\n",
    "df_raw_x = df_train[['WEIGHT','ABDOMEN', 'FOREARM', 'WRIST']]\n",
    "# statsmodels의 상수항 추가 함수 적용\n",
    "df_raw_x_const = add_constant(df_raw_x)\n",
    "# DataFrame으로 저장\n",
    "df_vif = pd.DataFrame()\n",
    "df_vif[\"variable\"] = df_raw_x_const.columns\n",
    "df_vif[\"VIF\"] = [variance_inflation_factor(df_raw_x_const.values, i) for i in range(df_raw_x_const.shape[1])]\n",
    "# VIF 정렬\n",
    "df_vif.sort_values(\"VIF\", inplace = True)\n",
    "df_vif.round(3)"
   ]
  },
  {
   "cell_type": "code",
   "execution_count": null,
   "id": "endangered-masters",
   "metadata": {},
   "outputs": [],
   "source": [
    "# 잔차의 등분산성 : X-예측값, Y-잔차\n",
    "plt.scatter(reg_result.fittedvalues, reg_result.resid)\n",
    "plt.xlabel(\"fitted value\")\n",
    "plt.ylabel(\"residual\")\n",
    "plt.axhline(y = 0, linestyle = \"--\")"
   ]
  },
  {
   "cell_type": "code",
   "execution_count": null,
   "id": "capable-basket",
   "metadata": {},
   "outputs": [],
   "source": [
    "# 잔차의 독립성 : X-데이터순서, Y-잔차\n",
    "plt.scatter(df_train.index, reg_result.resid, marker=\"o\")\n",
    "plt.xlabel(\"Data\")\n",
    "plt.ylabel(\"residual\")\n",
    "plt.axhline(y = 0, linestyle = \"-\")\n",
    "plt.axhline(y = 3*np.std(reg_result.resid), linestyle = \"--\")\n",
    "plt.axhline(y = -3*np.std(reg_result.resid), linestyle = \"--\")"
   ]
  },
  {
   "cell_type": "code",
   "execution_count": null,
   "id": "legendary-opposition",
   "metadata": {},
   "outputs": [],
   "source": [
    "# 잔차 정규성 검정:Q-Q plot. s-standardized line\n",
    "qqplot(reg_result.resid, line = \"q\")"
   ]
  },
  {
   "cell_type": "code",
   "execution_count": null,
   "id": "automatic-holocaust",
   "metadata": {},
   "outputs": [],
   "source": [
    "# 설명변수 중요도\n",
    "df_reg_coef = pd.DataFrame({\"Coef\": reg_result.params.values[1:]}, index = df_raw_x.columns)\n",
    "df_reg_coef.plot.barh(y = \"Coef\", legend = False)"
   ]
  },
  {
   "cell_type": "code",
   "execution_count": null,
   "id": "american-selling",
   "metadata": {},
   "outputs": [],
   "source": [
    "y_pred = reg_result.predict(df_test)\n",
    "print('평가용 데이터의 설명력 :', r2_score(df_test['FAT'], y_pred))"
   ]
  }
 ],
 "metadata": {
  "kernelspec": {
   "display_name": "Python 3",
   "language": "python",
   "name": "python3"
  },
  "language_info": {
   "codemirror_mode": {
    "name": "ipython",
    "version": 3
   },
   "file_extension": ".py",
   "mimetype": "text/x-python",
   "name": "python",
   "nbconvert_exporter": "python",
   "pygments_lexer": "ipython3",
   "version": "3.7.10"
  }
 },
 "nbformat": 4,
 "nbformat_minor": 5
}
