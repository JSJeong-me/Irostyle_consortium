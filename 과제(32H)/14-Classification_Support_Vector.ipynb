{
 "cells": [
  {
   "cell_type": "code",
   "execution_count": null,
   "id": "polished-reason",
   "metadata": {},
   "outputs": [],
   "source": [
    "# 데이터 구조\n",
    "import pandas as pd\n",
    "# 데이터 시각화\n",
    "import matplotlib.pyplot as plt\n",
    "import matplotlib\n",
    "# 데이터 scaling\n",
    "from sklearn.preprocessing import StandardScaler\n",
    "# 데이터 분할:train, test\n",
    "from sklearn.model_selection import train_test_split\n",
    "# 분류 SVM\n",
    "from sklearn.svm import SVC\n",
    "# 최적 모델, 파라미터 탐색\n",
    "from sklearn.model_selection import GridSearchCV\n",
    "# 모델 성능 평가\n",
    "from sklearn.metrics import confusion_matrix\n",
    "from sklearn.metrics import classification_report"
   ]
  },
  {
   "cell_type": "code",
   "execution_count": null,
   "id": "missing-court",
   "metadata": {},
   "outputs": [],
   "source": [
    "df_raw = pd.read_csv(\"../data/bank.csv\")\n",
    "df_raw.head()"
   ]
  },
  {
   "cell_type": "code",
   "execution_count": null,
   "id": "excellent-macro",
   "metadata": {},
   "outputs": [],
   "source": [
    "# 결측치 확인\n",
    "df_raw.isnull().sum()\n",
    "# JOB 변수의 결측치는 \"Other\"로 대체\n",
    "df_raw[\"JOB\"].fillna(\"Other\", inplace = True)\n",
    "# 숫자형 변수의 결측치는 해당 변수의 평균값으로 대체\n",
    "df_raw.fillna(df_raw.mean(), inplace=True)"
   ]
  },
  {
   "cell_type": "code",
   "execution_count": null,
   "id": "guided-leonard",
   "metadata": {},
   "outputs": [],
   "source": [
    "# get_dummies: 데이터의 문자형 변수에 대한 더미변수 생성\n",
    "df_raw_dummy = pd.get_dummies(df_raw)\n",
    "# 더미변수 생성된 데이터의 상위 5개 row를 확인\n",
    "df_raw_dummy.head()"
   ]
  },
  {
   "cell_type": "code",
   "execution_count": null,
   "id": "controversial-river",
   "metadata": {},
   "outputs": [],
   "source": [
    "# 학습용/평가용 데이터 분리\n",
    "df_train, df_test = train_test_split(df_raw_dummy, test_size = 0.3, random_state = 1234)\n",
    "print(\"학습용 데이터의 크기 : {}\".format(df_train.shape))\n",
    "print(\"평가용 데이터의 크기 : {}\".format(df_test.shape))"
   ]
  },
  {
   "cell_type": "code",
   "execution_count": null,
   "id": "exceptional-kelly",
   "metadata": {},
   "outputs": [],
   "source": [
    "# 설명변수와 목표변수를 분리\n",
    "df_train_y = df_train[\"BAD\"]\n",
    "df_train_x = df_train.drop(\"BAD\", axis = 1, inplace = False)\n",
    "df_test_y = df_test[\"BAD\"]\n",
    "df_test_x = df_test.drop(\"BAD\", axis = 1, inplace = False)"
   ]
  },
  {
   "cell_type": "code",
   "execution_count": null,
   "id": "announced-semiconductor",
   "metadata": {},
   "outputs": [],
   "source": [
    "svm_uncustomized = SVC(random_state=1234)\n",
    "svm_uncustomized.fit(df_train_x, df_train_y)\n",
    "# 학습용 데이터 셋 정확도\n",
    "print(\"학습용 데이터의 정확도 : {:.3f}\".format(svm_uncustomized.score(df_train_x, df_train_y)))\n",
    "# 평가용 데이터 셋 정확도\n",
    "print(\"평가용 데이터의 정확도 : {:.3f}\".format(svm_uncustomized.score(df_test_x, df_test_y)))"
   ]
  },
  {
   "cell_type": "code",
   "execution_count": null,
   "id": "egyptian-individual",
   "metadata": {},
   "outputs": [],
   "source": [
    "# 변수명 저장\n",
    "v_feature_name = df_train_x.columns\n",
    "# StandardScaler 적용\n",
    "scaler = StandardScaler()\n",
    "df_train_scaled_x = scaler.fit_transform(df_train_x)\n",
    "df_test_scaled_x = scaler.transform(df_test_x)\n",
    "df_train_scaled_x = pd.DataFrame(df_train_scaled_x, columns=v_feature_name)\n",
    "df_test_scaled_x = pd.DataFrame(df_test_scaled_x, columns=v_feature_name)\n",
    "df_train_scaled_x.head()"
   ]
  },
  {
   "cell_type": "code",
   "execution_count": null,
   "id": "secret-sample",
   "metadata": {},
   "outputs": [],
   "source": [
    "svm_scaled = SVC(random_state=1234)\n",
    "svm_scaled.fit(df_train_scaled_x, df_train_y)\n",
    "# 학습용 데이터 셋 정확도\n",
    "print(\"학습용 데이터의 정확도 : {:.3f}\".format(svm_scaled.score(df_train_scaled_x, df_train_y)))\n",
    "# 평가용 데이터 셋 정확도\n",
    "print(\"평가용 데이터의 정확도 : {:.3f}\".format(svm_scaled.score(df_test_scaled_x, df_test_y)))"
   ]
  },
  {
   "cell_type": "code",
   "execution_count": null,
   "id": "architectural-print",
   "metadata": {},
   "outputs": [],
   "source": [
    "estimator = SVC(random_state=1234)\n",
    "# 구하고자 하는 parameter와 범위\n",
    "param_grid = {\"C\": [1, 10, 100], \"gamma\": [0.01, 0.1, 1, 100]}\n",
    "# 정확도가 높은 최적 parameter 찾기\n",
    "grid_rf = GridSearchCV(estimator, param_grid, scoring=\"accuracy\", n_jobs = -1)\n",
    "grid_rf.fit(df_train_scaled_x, df_train_y)\n",
    "print(\"best estimator model: \\n{}\".format(grid_rf.best_estimator_))\n",
    "print(\"\\nbest parameter: \\n{}\".format(grid_rf.best_params_))\n",
    "print(\"\\nbest score: \\n{}\".format(grid_rf.best_score_.round(3)))"
   ]
  },
  {
   "cell_type": "code",
   "execution_count": null,
   "id": "executive-amplifier",
   "metadata": {},
   "outputs": [],
   "source": [
    "# 최종 모델\n",
    "svc_final = SVC(gamma = 0.1, C = 10, random_state=1234)\n",
    "svc_final.fit(df_train_scaled_x, df_train_y)\n",
    "# 평가\n",
    "y_pred = svc_final.predict(df_test_scaled_x)\n",
    "# 학습용 데이터 셋 정확도\n",
    "print(\"학습용 데이터의 정확도 : {:.3f}\".format(svc_final.score(df_train_scaled_x, df_train_y)))\n",
    "# 평가용 데이터 셋 정확도\n",
    "print(\"평가용 데이터의 정확도 : {:.3f}\".format(svc_final.score(df_test_scaled_x, df_test_y)))\n",
    "# confusion matrix\n",
    "print(\"Confusion matrix: \\n{}\".format(confusion_matrix(df_test_y, y_pred)))\n",
    "# classification Report\n",
    "print(\"Classification Report : \", classification_report(df_test_y, y_pred))"
   ]
  }
 ],
 "metadata": {
  "kernelspec": {
   "display_name": "Python 3",
   "language": "python",
   "name": "python3"
  },
  "language_info": {
   "codemirror_mode": {
    "name": "ipython",
    "version": 3
   },
   "file_extension": ".py",
   "mimetype": "text/x-python",
   "name": "python",
   "nbconvert_exporter": "python",
   "pygments_lexer": "ipython3",
   "version": "3.7.10"
  }
 },
 "nbformat": 4,
 "nbformat_minor": 5
}
