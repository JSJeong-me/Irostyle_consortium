{
 "cells": [
  {
   "cell_type": "code",
   "execution_count": null,
   "id": "guilty-newspaper",
   "metadata": {},
   "outputs": [],
   "source": [
    "# 데이터 구조\n",
    "import pandas as pd\n",
    "# 데이터 시각화\n",
    "import matplotlib.pyplot as plt\n",
    "import matplotlib\n",
    "# 나무 구조 시각화\n",
    "from sklearn.tree import plot_tree\n",
    "# 데이터 분할: train, test\n",
    "from sklearn.model_selection import train_test_split\n",
    "# 분류 Gradient Boosting\n",
    "from sklearn.ensemble import GradientBoostingClassifier\n",
    "# 분류 xgboosting\n",
    "!pip install xgboost\n",
    "from xgboost import XGBClassifier\n",
    "# 최적 모델, 파라미터 탐색\n",
    "from sklearn.model_selection import GridSearchCV\n",
    "# 모델 성능 평가\n",
    "from sklearn.metrics import confusion_matrix\n",
    "from sklearn.metrics import classification_report"
   ]
  },
  {
   "cell_type": "code",
   "execution_count": null,
   "id": "descending-bulgarian",
   "metadata": {},
   "outputs": [],
   "source": [
    "# 한글 맑은 고딕 적용\n",
    "matplotlib.rc(\"font\", family = \"Malgun Gothic\")\n",
    "# 음수값 표시\n",
    "matplotlib.rc(\"axes\", unicode_minus = False)"
   ]
  },
  {
   "cell_type": "code",
   "execution_count": null,
   "id": "national-immunology",
   "metadata": {},
   "outputs": [],
   "source": [
    "# 데이터 불러오기\n",
    "df_raw = pd.read_csv(\"../data/bank.csv\")\n",
    "df_raw.head()"
   ]
  },
  {
   "cell_type": "code",
   "execution_count": null,
   "id": "narrative-handle",
   "metadata": {},
   "outputs": [],
   "source": [
    "# 결측치 확인\n",
    "df_raw.isnull().sum(axis = 0)\n",
    "# JOB 변수의 결측치는 \"Other\"로 대체\n",
    "df_raw[\"JOB\"].fillna(\"Other\", inplace = True)\n",
    "# 숫자형 변수의 결측치는 해당 변수의 평균값으로 대체\n",
    "df_raw.fillna(df_raw.mean(), inplace=True)"
   ]
  },
  {
   "cell_type": "code",
   "execution_count": null,
   "id": "serious-contributor",
   "metadata": {},
   "outputs": [],
   "source": [
    "# get_dummies: 데이터의 문자형 변수에 대한 더미변수 생성\n",
    "df_raw_dummy = pd.get_dummies(df_raw)\n",
    "# 더미변수 생성된 데이터의 상위 5개 row를 확인\n",
    "df_raw_dummy.head()"
   ]
  },
  {
   "cell_type": "code",
   "execution_count": null,
   "id": "addressed-ivory",
   "metadata": {},
   "outputs": [],
   "source": [
    "# 학습용/평가용 데이터 분리\n",
    "df_train, df_test = train_test_split(df_raw_dummy, test_size = 0.3, random_state = 1234)\n",
    "print(\"학습용 데이터의 크기 : {}\".format(df_train.shape))\n",
    "print(\"평가용 데이터의 크기 : {}\".format(df_test.shape))"
   ]
  },
  {
   "cell_type": "code",
   "execution_count": null,
   "id": "grand-antarctica",
   "metadata": {},
   "outputs": [],
   "source": [
    "# 설명변수와 목표변수를 분리\n",
    "df_train_y = df_train[\"BAD\"]\n",
    "df_train_x = df_train.drop(\"BAD\", axis = 1, inplace = False)\n",
    "df_test_y = df_test[\"BAD\"]\n",
    "df_test_x = df_test.drop(\"BAD\", axis = 1, inplace = False)"
   ]
  },
  {
   "cell_type": "code",
   "execution_count": null,
   "id": "third-sunrise",
   "metadata": {},
   "outputs": [],
   "source": [
    "# 그래디언트 부스팅 모델 생성: GradientBoostingClassifier\n",
    "gb_uncustomized = GradientBoostingClassifier(random_state=1234)\n",
    "gb_uncustomized.fit(df_train_x, df_train_y)\n",
    "# 학습용 데이터 셋 정확도\n",
    "print(\"학습용 데이터의 정확도 : {:.3f}\".format(gb_uncustomized.score (df_train_x, df_train_y)))\n",
    "# 평가용 데이터 셋 정확도\n",
    "print(\"평가용 데이터의 정확도 : {:.3f}\".format(gb_uncustomized.score (df_test_x, df_test_y)))"
   ]
  },
  {
   "cell_type": "code",
   "execution_count": null,
   "id": "positive-adrian",
   "metadata": {},
   "outputs": [],
   "source": [
    "estimator = GradientBoostingClassifier(random_state=1234)\n",
    "# 구하고자 하는 parameter와 범위\n",
    "param_grid = {\"learning_rate\": [0.1, 0.2, 0.3], \"n_estimators\": [100, 150, 200], \"max_depth\": [4, 5, 6, 7], \"min_samples_leaf\": [1, 2, 3, 4, 5]}\n",
    "# 정확도가 높은 최적 parameter 찾기\n",
    "grid_gb = GridSearchCV(estimator, param_grid, scoring=\"accuracy\", n_jobs = -1)\n",
    "grid_gb.fit(df_train_x, df_train_y)\n",
    "print(\"best estimator model: \\n{}\".format(grid_gb.best_estimator_))\n",
    "print(\"\\nbest parameter: \\n{}\".format(grid_gb.best_params_))\n",
    "print(\"\\nbest score: \\n{}\".format(grid_gb.best_score_.round(3)))"
   ]
  },
  {
   "cell_type": "code",
   "execution_count": null,
   "id": "elegant-oxford",
   "metadata": {},
   "outputs": [],
   "source": [
    "# 최종 모델\n",
    "gb_final = GradientBoostingClassifier(min_samples_leaf = 5, max_depth = 6, n_estimators = 200,\n",
    "learning_rate = 0.3, random_state=1234)\n",
    "gb_final.fit(df_train_x, df_train_y)\n",
    "# 예측\n",
    "y_pred = gb_final.predict(df_test_x)\n",
    "# 학습용 데이터 셋 정확도\n",
    "print(\"학습용 데이터의 정확도 : {:.3f}\".format(gb_final.score(df_train_x, df_train_y)))\n",
    "# 평가용 데이터 셋 정확도\n",
    "print(\"평가용 데이터의 정확도 : {:.3f}\".format(gb_final.score(df_test_x, df_test_y)))\n",
    "# confusion matrix\n",
    "print(\"Confusion matrix: \\n{}\".format(confusion_matrix(df_test_y, y_pred)))"
   ]
  },
  {
   "cell_type": "code",
   "execution_count": null,
   "id": "departmental-values",
   "metadata": {},
   "outputs": [],
   "source": [
    "# Classification Report\n",
    "print(\"Classification Report : \", classification_report(df_test_y, y_pred))"
   ]
  },
  {
   "cell_type": "code",
   "execution_count": null,
   "id": "facial-saturn",
   "metadata": {},
   "outputs": [],
   "source": [
    "# tree.feature_importances_로 설명변수 중요도 확인 및 테이블로 저장\n",
    "df_importance = pd.DataFrame()\n",
    "df_importance [\"Feature\"] = df_train_x.columns\n",
    "df_importance [\"Importance\"] = gb_final.feature_importances_\n",
    "# df_feature_importance의 테이블을 중요도 순으로 정렬\n",
    "df_importance .sort_values(\"Importance\", ascending=False, inplace = True)\n",
    "df_importance .round(3)"
   ]
  },
  {
   "cell_type": "code",
   "execution_count": null,
   "id": "skilled-marina",
   "metadata": {},
   "outputs": [],
   "source": [
    "# 설명변수 중요도 그래프\n",
    "df_importance .sort_values(\"Importance\", ascending=True, inplace = True)\n",
    "coordinates = range(len(df_importance ))\n",
    "plt.barh(y = coordinates, width = df_importance [\"Importance\"])\n",
    "plt.yticks(coordinates, df_importance [\"Feature\"])\n",
    "plt.xlabel(\"설명변수 중요도\")\n",
    "plt.ylabel(\"설명변수\")"
   ]
  },
  {
   "cell_type": "code",
   "execution_count": null,
   "id": "hybrid-overall",
   "metadata": {},
   "outputs": [],
   "source": [
    "# 기본 모델 생성\n",
    "xgb_uncustomized = XGBClassifier(random_state=1234)\n",
    "xgb_uncustomized.fit(df_train_x, df_train_y)\n",
    "# 학습용 데이터 셋 정확도\n",
    "print(\"학습용 데이터의 정확도 : {:.3f}\".format(xgb_uncustomized.score (df_train_x, df_train_y)))\n",
    "# 평가용 데이터 셋 정확도\n",
    "print(\"평가용 데이터의 정확도 : {:.3f}\".format(xgb_uncustomized.score (df_test_x, df_test_y)))"
   ]
  },
  {
   "cell_type": "code",
   "execution_count": null,
   "id": "ultimate-wagon",
   "metadata": {},
   "outputs": [],
   "source": [
    "xgb_uncustomized"
   ]
  }
 ],
 "metadata": {
  "kernelspec": {
   "display_name": "Python 3",
   "language": "python",
   "name": "python3"
  },
  "language_info": {
   "codemirror_mode": {
    "name": "ipython",
    "version": 3
   },
   "file_extension": ".py",
   "mimetype": "text/x-python",
   "name": "python",
   "nbconvert_exporter": "python",
   "pygments_lexer": "ipython3",
   "version": "3.7.10"
  }
 },
 "nbformat": 4,
 "nbformat_minor": 5
}
